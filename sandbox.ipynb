{
 "cells": [
  {
   "cell_type": "code",
   "execution_count": 1,
   "metadata": {},
   "outputs": [],
   "source": [
    "import polars as pl\n",
    "import polars.selectors as cs\n",
    "from utils import PathsData, import_data"
   ]
  },
  {
   "cell_type": "code",
   "execution_count": 2,
   "metadata": {},
   "outputs": [],
   "source": [
    "df = import_data(PathsData.X_TEST.value)"
   ]
  },
  {
   "cell_type": "code",
   "execution_count": 3,
   "metadata": {},
   "outputs": [
    {
     "data": {
      "text/html": [
       "<div><style>\n",
       ".dataframe > thead > tr,\n",
       ".dataframe > tbody > tr {\n",
       "  text-align: right;\n",
       "  white-space: pre-wrap;\n",
       "}\n",
       "</style>\n",
       "<small>shape: (9, 11)</small><table border=\"1\" class=\"dataframe\"><thead><tr><th>statistic</th><th>train</th><th>gare</th><th>date</th><th>arret</th><th>p2q0</th><th>p3q0</th><th>p4q0</th><th>p0q2</th><th>p0q3</th><th>p0q4</th></tr><tr><td>str</td><td>str</td><td>str</td><td>str</td><td>f64</td><td>f64</td><td>f64</td><td>f64</td><td>f64</td><td>f64</td><td>f64</td></tr></thead><tbody><tr><td>&quot;count&quot;</td><td>&quot;20657&quot;</td><td>&quot;20657&quot;</td><td>&quot;20657&quot;</td><td>20657.0</td><td>20657.0</td><td>20657.0</td><td>20657.0</td><td>20657.0</td><td>20657.0</td><td>20657.0</td></tr><tr><td>&quot;null_count&quot;</td><td>&quot;0&quot;</td><td>&quot;0&quot;</td><td>&quot;0&quot;</td><td>0.0</td><td>0.0</td><td>0.0</td><td>0.0</td><td>0.0</td><td>0.0</td><td>0.0</td></tr><tr><td>&quot;mean&quot;</td><td>null</td><td>null</td><td>null</td><td>18.454906</td><td>-0.184199</td><td>-0.183425</td><td>-0.094544</td><td>-0.1933</td><td>-0.188653</td><td>-0.192574</td></tr><tr><td>&quot;std&quot;</td><td>null</td><td>null</td><td>null</td><td>6.193788</td><td>1.478776</td><td>1.441474</td><td>1.476192</td><td>1.571205</td><td>1.634196</td><td>1.723925</td></tr><tr><td>&quot;min&quot;</td><td>&quot;AABQSN&quot;</td><td>&quot;ADU&quot;</td><td>&quot;2023-11-13&quot;</td><td>12.0</td><td>-32.0</td><td>-31.0</td><td>-46.0</td><td>-46.0</td><td>-66.0</td><td>-57.0</td></tr><tr><td>&quot;25%&quot;</td><td>null</td><td>null</td><td>null</td><td>12.0</td><td>-1.0</td><td>-1.0</td><td>-1.0</td><td>-1.0</td><td>-1.0</td><td>-1.0</td></tr><tr><td>&quot;50%&quot;</td><td>null</td><td>null</td><td>null</td><td>18.0</td><td>0.0</td><td>0.0</td><td>0.0</td><td>0.0</td><td>0.0</td><td>0.0</td></tr><tr><td>&quot;75%&quot;</td><td>null</td><td>null</td><td>null</td><td>24.0</td><td>1.0</td><td>1.0</td><td>1.0</td><td>1.0</td><td>1.0</td><td>1.0</td></tr><tr><td>&quot;max&quot;</td><td>&quot;ZZXVUE&quot;</td><td>&quot;ZVY&quot;</td><td>&quot;2023-12-22&quot;</td><td>36.0</td><td>6.0</td><td>6.0</td><td>9.0</td><td>11.0</td><td>6.0</td><td>9.0</td></tr></tbody></table></div>"
      ],
      "text/plain": [
       "shape: (9, 11)\n",
       "┌────────────┬────────┬───────┬────────────┬───┬───────────┬──────────┬───────────┬───────────┐\n",
       "│ statistic  ┆ train  ┆ gare  ┆ date       ┆ … ┆ p4q0      ┆ p0q2     ┆ p0q3      ┆ p0q4      │\n",
       "│ ---        ┆ ---    ┆ ---   ┆ ---        ┆   ┆ ---       ┆ ---      ┆ ---       ┆ ---       │\n",
       "│ str        ┆ str    ┆ str   ┆ str        ┆   ┆ f64       ┆ f64      ┆ f64       ┆ f64       │\n",
       "╞════════════╪════════╪═══════╪════════════╪═══╪═══════════╪══════════╪═══════════╪═══════════╡\n",
       "│ count      ┆ 20657  ┆ 20657 ┆ 20657      ┆ … ┆ 20657.0   ┆ 20657.0  ┆ 20657.0   ┆ 20657.0   │\n",
       "│ null_count ┆ 0      ┆ 0     ┆ 0          ┆ … ┆ 0.0       ┆ 0.0      ┆ 0.0       ┆ 0.0       │\n",
       "│ mean       ┆ null   ┆ null  ┆ null       ┆ … ┆ -0.094544 ┆ -0.1933  ┆ -0.188653 ┆ -0.192574 │\n",
       "│ std        ┆ null   ┆ null  ┆ null       ┆ … ┆ 1.476192  ┆ 1.571205 ┆ 1.634196  ┆ 1.723925  │\n",
       "│ min        ┆ AABQSN ┆ ADU   ┆ 2023-11-13 ┆ … ┆ -46.0     ┆ -46.0    ┆ -66.0     ┆ -57.0     │\n",
       "│ 25%        ┆ null   ┆ null  ┆ null       ┆ … ┆ -1.0      ┆ -1.0     ┆ -1.0      ┆ -1.0      │\n",
       "│ 50%        ┆ null   ┆ null  ┆ null       ┆ … ┆ 0.0       ┆ 0.0      ┆ 0.0       ┆ 0.0       │\n",
       "│ 75%        ┆ null   ┆ null  ┆ null       ┆ … ┆ 1.0       ┆ 1.0      ┆ 1.0       ┆ 1.0       │\n",
       "│ max        ┆ ZZXVUE ┆ ZVY   ┆ 2023-12-22 ┆ … ┆ 9.0       ┆ 11.0     ┆ 6.0       ┆ 9.0       │\n",
       "└────────────┴────────┴───────┴────────────┴───┴───────────┴──────────┴───────────┴───────────┘"
      ]
     },
     "execution_count": 3,
     "metadata": {},
     "output_type": "execute_result"
    }
   ],
   "source": [
    "df.describe()"
   ]
  },
  {
   "cell_type": "code",
   "execution_count": null,
   "metadata": {},
   "outputs": [],
   "source": []
  }
 ],
 "metadata": {
  "kernelspec": {
   "display_name": "challengedata",
   "language": "python",
   "name": "python3"
  },
  "language_info": {
   "codemirror_mode": {
    "name": "ipython",
    "version": 3
   },
   "file_extension": ".py",
   "mimetype": "text/x-python",
   "name": "python",
   "nbconvert_exporter": "python",
   "pygments_lexer": "ipython3",
   "version": "3.11.11"
  }
 },
 "nbformat": 4,
 "nbformat_minor": 2
}
