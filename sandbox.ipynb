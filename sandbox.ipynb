{
 "cells": [
  {
   "cell_type": "code",
   "execution_count": 1,
   "metadata": {},
   "outputs": [
    {
     "data": {
      "text/html": [
       "\n",
       "        <div>\n",
       "            <ins><a href=\"https://ydata.ai/register\">Upgrade to ydata-sdk</a></ins>\n",
       "            <p>\n",
       "                Improve your data and profiling with ydata-sdk, featuring data quality scoring, redundancy detection, outlier identification, text validation, and synthetic data generation.\n",
       "            </p>\n",
       "        </div>\n",
       "        "
      ],
      "text/plain": [
       "<IPython.core.display.HTML object>"
      ]
     },
     "metadata": {},
     "output_type": "display_data"
    }
   ],
   "source": [
    "import polars as pl\n",
    "from ydata_profiling import ProfileReport"
   ]
  },
  {
   "cell_type": "code",
   "execution_count": 5,
   "metadata": {},
   "outputs": [],
   "source": [
    "df = pl.read_csv(r\"data\\x_train_final.csv\")"
   ]
  },
  {
   "cell_type": "code",
   "execution_count": 8,
   "metadata": {},
   "outputs": [
    {
     "data": {
      "text/html": [
       "<div><style>\n",
       ".dataframe > thead > tr,\n",
       ".dataframe > tbody > tr {\n",
       "  text-align: right;\n",
       "  white-space: pre-wrap;\n",
       "}\n",
       "</style>\n",
       "<small>shape: (667_264, 12)</small><table border=\"1\" class=\"dataframe\"><thead><tr><th></th><th>Unnamed: 0</th><th>train</th><th>gare</th><th>date</th><th>arret</th><th>p2q0</th><th>p3q0</th><th>p4q0</th><th>p0q2</th><th>p0q3</th><th>p0q4</th></tr><tr><td>i64</td><td>i64</td><td>str</td><td>str</td><td>str</td><td>i64</td><td>f64</td><td>f64</td><td>f64</td><td>f64</td><td>f64</td><td>f64</td></tr></thead><tbody><tr><td>0</td><td>0</td><td>&quot;VBXNMF&quot;</td><td>&quot;KYF&quot;</td><td>&quot;2023-04-03&quot;</td><td>8</td><td>0.0</td><td>0.0</td><td>1.0</td><td>-3.0</td><td>-1.0</td><td>-2.0</td></tr><tr><td>1</td><td>1</td><td>&quot;VBXNMF&quot;</td><td>&quot;JLR&quot;</td><td>&quot;2023-04-03&quot;</td><td>9</td><td>0.0</td><td>0.0</td><td>0.0</td><td>1.0</td><td>0.0</td><td>1.0</td></tr><tr><td>2</td><td>2</td><td>&quot;VBXNMF&quot;</td><td>&quot;EOH&quot;</td><td>&quot;2023-04-03&quot;</td><td>10</td><td>-1.0</td><td>0.0</td><td>0.0</td><td>-1.0</td><td>0.0</td><td>0.0</td></tr><tr><td>3</td><td>3</td><td>&quot;VBXNMF&quot;</td><td>&quot;VXY&quot;</td><td>&quot;2023-04-03&quot;</td><td>11</td><td>-1.0</td><td>-1.0</td><td>0.0</td><td>2.0</td><td>-2.0</td><td>0.0</td></tr><tr><td>4</td><td>4</td><td>&quot;VBXNMF&quot;</td><td>&quot;OCB&quot;</td><td>&quot;2023-04-03&quot;</td><td>12</td><td>-1.0</td><td>-1.0</td><td>-1.0</td><td>-1.0</td><td>3.0</td><td>2.0</td></tr><tr><td>&hellip;</td><td>&hellip;</td><td>&hellip;</td><td>&hellip;</td><td>&hellip;</td><td>&hellip;</td><td>&hellip;</td><td>&hellip;</td><td>&hellip;</td><td>&hellip;</td><td>&hellip;</td><td>&hellip;</td></tr><tr><td>667259</td><td>667259</td><td>&quot;BFNJJK&quot;</td><td>&quot;DGG&quot;</td><td>&quot;2023-11-10&quot;</td><td>22</td><td>0.0</td><td>-1.0</td><td>-6.0</td><td>-1.0</td><td>0.0</td><td>-2.0</td></tr><tr><td>667260</td><td>667260</td><td>&quot;BFNJJK&quot;</td><td>&quot;KDN&quot;</td><td>&quot;2023-11-10&quot;</td><td>23</td><td>0.0</td><td>0.0</td><td>-1.0</td><td>1.0</td><td>0.0</td><td>0.0</td></tr><tr><td>667261</td><td>667261</td><td>&quot;BFNJJK&quot;</td><td>&quot;TVD&quot;</td><td>&quot;2023-11-10&quot;</td><td>24</td><td>1.0</td><td>0.0</td><td>0.0</td><td>-1.0</td><td>-3.0</td><td>-1.0</td></tr><tr><td>667262</td><td>667262</td><td>&quot;BFNJJK&quot;</td><td>&quot;TXP&quot;</td><td>&quot;2023-11-10&quot;</td><td>26</td><td>2.0</td><td>2.0</td><td>1.0</td><td>0.0</td><td>0.0</td><td>1.0</td></tr><tr><td>667263</td><td>667263</td><td>&quot;BFNJJK&quot;</td><td>&quot;OWI&quot;</td><td>&quot;2023-11-10&quot;</td><td>28</td><td>1.0</td><td>1.0</td><td>2.0</td><td>-5.0</td><td>-4.0</td><td>-4.0</td></tr></tbody></table></div>"
      ],
      "text/plain": [
       "shape: (667_264, 12)\n",
       "┌────────┬────────────┬────────┬──────┬───┬──────┬──────┬──────┬──────┐\n",
       "│        ┆ Unnamed: 0 ┆ train  ┆ gare ┆ … ┆ p4q0 ┆ p0q2 ┆ p0q3 ┆ p0q4 │\n",
       "│ ---    ┆ ---        ┆ ---    ┆ ---  ┆   ┆ ---  ┆ ---  ┆ ---  ┆ ---  │\n",
       "│ i64    ┆ i64        ┆ str    ┆ str  ┆   ┆ f64  ┆ f64  ┆ f64  ┆ f64  │\n",
       "╞════════╪════════════╪════════╪══════╪═══╪══════╪══════╪══════╪══════╡\n",
       "│ 0      ┆ 0          ┆ VBXNMF ┆ KYF  ┆ … ┆ 1.0  ┆ -3.0 ┆ -1.0 ┆ -2.0 │\n",
       "│ 1      ┆ 1          ┆ VBXNMF ┆ JLR  ┆ … ┆ 0.0  ┆ 1.0  ┆ 0.0  ┆ 1.0  │\n",
       "│ 2      ┆ 2          ┆ VBXNMF ┆ EOH  ┆ … ┆ 0.0  ┆ -1.0 ┆ 0.0  ┆ 0.0  │\n",
       "│ 3      ┆ 3          ┆ VBXNMF ┆ VXY  ┆ … ┆ 0.0  ┆ 2.0  ┆ -2.0 ┆ 0.0  │\n",
       "│ 4      ┆ 4          ┆ VBXNMF ┆ OCB  ┆ … ┆ -1.0 ┆ -1.0 ┆ 3.0  ┆ 2.0  │\n",
       "│ …      ┆ …          ┆ …      ┆ …    ┆ … ┆ …    ┆ …    ┆ …    ┆ …    │\n",
       "│ 667259 ┆ 667259     ┆ BFNJJK ┆ DGG  ┆ … ┆ -6.0 ┆ -1.0 ┆ 0.0  ┆ -2.0 │\n",
       "│ 667260 ┆ 667260     ┆ BFNJJK ┆ KDN  ┆ … ┆ -1.0 ┆ 1.0  ┆ 0.0  ┆ 0.0  │\n",
       "│ 667261 ┆ 667261     ┆ BFNJJK ┆ TVD  ┆ … ┆ 0.0  ┆ -1.0 ┆ -3.0 ┆ -1.0 │\n",
       "│ 667262 ┆ 667262     ┆ BFNJJK ┆ TXP  ┆ … ┆ 1.0  ┆ 0.0  ┆ 0.0  ┆ 1.0  │\n",
       "│ 667263 ┆ 667263     ┆ BFNJJK ┆ OWI  ┆ … ┆ 2.0  ┆ -5.0 ┆ -4.0 ┆ -4.0 │\n",
       "└────────┴────────────┴────────┴──────┴───┴──────┴──────┴──────┴──────┘"
      ]
     },
     "execution_count": 8,
     "metadata": {},
     "output_type": "execute_result"
    }
   ],
   "source": [
    "df"
   ]
  },
  {
   "cell_type": "code",
   "execution_count": null,
   "metadata": {},
   "outputs": [],
   "source": []
  }
 ],
 "metadata": {
  "kernelspec": {
   "display_name": "challengedata",
   "language": "python",
   "name": "python3"
  },
  "language_info": {
   "codemirror_mode": {
    "name": "ipython",
    "version": 3
   },
   "file_extension": ".py",
   "mimetype": "text/x-python",
   "name": "python",
   "nbconvert_exporter": "python",
   "pygments_lexer": "ipython3",
   "version": "3.11.11"
  }
 },
 "nbformat": 4,
 "nbformat_minor": 2
}
