{
 "cells": [
  {
   "cell_type": "code",
   "execution_count": 1,
   "metadata": {},
   "outputs": [],
   "source": [
    "import polars as pl\n",
    "import polars.selectors as cs\n",
    "from utils import PathsData, import_data, split_data, plot_correlation\n",
    "from features import FeaturesFrame\n",
    "from models import Model, ModelEnum, ParamGridEnum\n",
    "\n",
    "import matplotlib.pyplot as plt\n",
    "import seaborn as sns\n",
    "# from sklearn.tree import DecisionTreeRegressor\n",
    "from sklearn.metrics import mean_absolute_error, mean_squared_error, r2_score\n",
    "# from sklearn.preprocessing import OneHotEncoder, LabelEncoder, StandardScaler\n",
    "from xgboost import XGBRegressor\n",
    "\n",
    "\n",
    "x_validation = import_data(PathsData.X_TEST.value) #! to use in the end to make a submission\n",
    "x = import_data(PathsData.X_TRAIN.value)\n",
    "y = import_data(PathsData.Y_TRAIN.value)\n",
    "\n",
    "x_train, x_test, y_train, y_test = split_data(x=x, y=y)"
   ]
  },
  {
   "cell_type": "code",
   "execution_count": 6,
   "metadata": {},
   "outputs": [],
   "source": [
    "test_train = FeaturesFrame(x_train).encode_label(encoder='frequency').select('arret', 'encoded_gare')#.add_feature_square().scale_standard() #.add_feature_interactions() #.add_feature_square() #.scale_standard(set=\"train\")\n",
    "test_test = FeaturesFrame(x_test).encode_label(encoder='frequency').select('arret', 'encoded_gare') #.add_feature_square().scale_standard(set='test', train_scaler=scaler) #.add_feature_interactions() #.add_feature_square() #.scale_standard(set=\"test\", train_scaler=scaler)"
   ]
  },
  {
   "cell_type": "code",
   "execution_count": 7,
   "metadata": {},
   "outputs": [
    {
     "name": "stdout",
     "output_type": "stream",
     "text": [
      "Model Evaluation - MSE: 0.7891, R2: 0.0694, MAE: 0.6831\n"
     ]
    },
    {
     "data": {
      "text/plain": [
       "(0.7890712182688476, 0.06940980897448001, 0.6830813292153596)"
      ]
     },
     "execution_count": 7,
     "metadata": {},
     "output_type": "execute_result"
    }
   ],
   "source": [
    "model = Model(model_enum=ModelEnum.XGBoost)\n",
    "model_fit = model.fit(test_train.to_numpy(), y_train=y_train.to_numpy())\n",
    "model.evaluate(X_test=test_test.to_numpy(), y_test=y_test.to_numpy())"
   ]
  },
  {
   "cell_type": "code",
   "execution_count": 12,
   "metadata": {},
   "outputs": [
    {
     "name": "stdout",
     "output_type": "stream",
     "text": [
      "Fitting 3 folds for each of 108 candidates, totalling 324 fits\n"
     ]
    }
   ],
   "source": [
    "model = Model(model_enum=ModelEnum.XGBoost)\n",
    "params_opti_mlp = model.grid_search(test_train.to_pandas(), y_train=y_train.to_pandas(), param_grid = ParamGridEnum.XGBoost.value)"
   ]
  },
  {
   "cell_type": "code",
   "execution_count": 8,
   "metadata": {},
   "outputs": [],
   "source": [
    "params_opti_xgb = {\n",
    "        \"n_estimators\": 200,\n",
    "        \"learning_rate\": 0.1,\n",
    "        \"max_depth\":5,\n",
    "        \"subsample\": 0.8,\n",
    "        \"colsample_bytree\": 1\n",
    "}\n",
    "    \n",
    "opti_params = {'colsample_bytree': 1.0, 'learning_rate': 0.1, 'max_depth': 5, 'n_estimators': 500, 'subsample': 0.8}\n",
    "par = {'colsample_bytree': 0.8, 'learning_rate': 0.1, 'max_depth': 10, 'n_estimators': 100, 'subsample': 0.8}\n",
    "par_simple = {    \"n_estimators\":1250,   \n",
    "    \"max_depth\":12,        \n",
    "    \"learning_rate\":0.01,  \n",
    "    \"subsample\":0.9,      \n",
    "    \"colsample_bytree\":0.8,  \n",
    "    \"random_state\":42,\n",
    "    \"n_jobs\":-1}"
   ]
  },
  {
   "cell_type": "code",
   "execution_count": 9,
   "metadata": {},
   "outputs": [],
   "source": [
    "mod = XGBRegressor().set_params(**par_simple)\n",
    "mod_fit = mod.fit(test_train.to_numpy(),y_train.to_numpy())\n",
    "preds = mod.predict(X=test_test.to_numpy())"
   ]
  },
  {
   "cell_type": "code",
   "execution_count": 10,
   "metadata": {},
   "outputs": [
    {
     "name": "stdout",
     "output_type": "stream",
     "text": [
      "Model Evaluation - MSE: 0.8205, R2: 0.0324, MAE: 0.7116\n"
     ]
    }
   ],
   "source": [
    "mse = mean_squared_error(y_test, preds)\n",
    "r2 = r2_score(y_test, preds)\n",
    "mae = mean_absolute_error(y_test,preds)\n",
    "print(f\"Model Evaluation - MSE: {mse:.4f}, R2: {r2:.4f}, MAE: {mae:.4f}\")"
   ]
  },
  {
   "cell_type": "code",
   "execution_count": 22,
   "metadata": {},
   "outputs": [],
   "source": [
    "predictions_validation = mod.predict(FeaturesFrame(x_validation).encode_label(encoder='frequency').drop('train', 'gare', 'date').to_numpy())"
   ]
  },
  {
   "cell_type": "code",
   "execution_count": 23,
   "metadata": {},
   "outputs": [],
   "source": [
    "pl.DataFrame(predictions_validation).rename({\"column_0\":\"y_test\"}).with_row_index().write_csv(r\"C:\\Users\\faune\\challenge-data-203\\submissions\\submission5.csv\", separator=\",\")"
   ]
  },
  {
   "cell_type": "code",
   "execution_count": null,
   "metadata": {},
   "outputs": [],
   "source": [
    "# pl.DataFrame(mod.predict(FeaturesFrame(x_validation).encode_label(encoder='frequency').select('arret', 'encoded_gare').to_numpy())).to_pandas().to_csv(r\"C:\\Users\\faune\\challenge-data-203\\submissions\\submission2.csv\")"
   ]
  },
  {
   "cell_type": "code",
   "execution_count": 12,
   "metadata": {},
   "outputs": [
    {
     "data": {
      "text/html": [
       "<div><style>\n",
       ".dataframe > thead > tr,\n",
       ".dataframe > tbody > tr {\n",
       "  text-align: right;\n",
       "  white-space: pre-wrap;\n",
       "}\n",
       "</style>\n",
       "<small>shape: (20_657, 2)</small><table border=\"1\" class=\"dataframe\"><thead><tr><th>index</th><th>y_test</th></tr><tr><td>u32</td><td>f32</td></tr></thead><tbody><tr><td>0</td><td>-0.461851</td></tr><tr><td>1</td><td>0.19992</td></tr><tr><td>2</td><td>0.32767</td></tr><tr><td>3</td><td>-0.251354</td></tr><tr><td>4</td><td>-0.654542</td></tr><tr><td>&hellip;</td><td>&hellip;</td></tr><tr><td>20652</td><td>0.013936</td></tr><tr><td>20653</td><td>0.085909</td></tr><tr><td>20654</td><td>-0.827888</td></tr><tr><td>20655</td><td>0.311176</td></tr><tr><td>20656</td><td>0.185849</td></tr></tbody></table></div>"
      ],
      "text/plain": [
       "shape: (20_657, 2)\n",
       "┌───────┬───────────┐\n",
       "│ index ┆ y_test    │\n",
       "│ ---   ┆ ---       │\n",
       "│ u32   ┆ f32       │\n",
       "╞═══════╪═══════════╡\n",
       "│ 0     ┆ -0.461851 │\n",
       "│ 1     ┆ 0.19992   │\n",
       "│ 2     ┆ 0.32767   │\n",
       "│ 3     ┆ -0.251354 │\n",
       "│ 4     ┆ -0.654542 │\n",
       "│ …     ┆ …         │\n",
       "│ 20652 ┆ 0.013936  │\n",
       "│ 20653 ┆ 0.085909  │\n",
       "│ 20654 ┆ -0.827888 │\n",
       "│ 20655 ┆ 0.311176  │\n",
       "│ 20656 ┆ 0.185849  │\n",
       "└───────┴───────────┘"
      ]
     },
     "execution_count": 12,
     "metadata": {},
     "output_type": "execute_result"
    }
   ],
   "source": [
    "pl.DataFrame(predictions_validation).rename({\"column_0\":\"y_test\"}).with_row_index()"
   ]
  },
  {
   "cell_type": "code",
   "execution_count": null,
   "metadata": {},
   "outputs": [],
   "source": [
    "pl.read_csv(PathsData.X_TEST.value)"
   ]
  },
  {
   "cell_type": "code",
   "execution_count": null,
   "metadata": {},
   "outputs": [],
   "source": []
  }
 ],
 "metadata": {
  "kernelspec": {
   "display_name": "challengedata",
   "language": "python",
   "name": "python3"
  },
  "language_info": {
   "codemirror_mode": {
    "name": "ipython",
    "version": 3
   },
   "file_extension": ".py",
   "mimetype": "text/x-python",
   "name": "python",
   "nbconvert_exporter": "python",
   "pygments_lexer": "ipython3",
   "version": "3.11.11"
  }
 },
 "nbformat": 4,
 "nbformat_minor": 2
}
