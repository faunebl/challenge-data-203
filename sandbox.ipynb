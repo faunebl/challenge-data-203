{
 "cells": [
  {
   "cell_type": "code",
   "execution_count": 1,
   "metadata": {},
   "outputs": [],
   "source": [
    "import polars as pl\n",
    "import polars.selectors as cs\n",
    "from utils import PathsData, import_data, split_data, plot_correlation\n",
    "from features import FeaturesFrame\n",
    "\n",
    "import matplotlib.pyplot as plt\n",
    "import seaborn as sns\n",
    "from sklearn.tree import DecisionTreeRegressor\n",
    "from sklearn.metrics import mean_absolute_error, mean_squared_error, r2_score\n",
    "from sklearn.preprocessing import OneHotEncoder, LabelEncoder, StandardScaler\n",
    "\n",
    "x_validation = import_data(PathsData.X_TEST.value) #to use in the end to make a submission\n",
    "x = import_data(PathsData.X_TRAIN.value)\n",
    "y = import_data(PathsData.Y_TRAIN.value)\n",
    "\n",
    "x_train, x_test, y_train, y_test = split_data(x=x, y=y)"
   ]
  },
  {
   "cell_type": "code",
   "execution_count": 2,
   "metadata": {},
   "outputs": [],
   "source": [
    "test = FeaturesFrame(x_train)\n",
    "test = (\n",
    "    test\n",
    "    .with_columns(pl.col('date').str.to_date(\"%Y-%m-%d\"))\n",
    "    .with_columns(\n",
    "        pl.col('date').dt.weekday().alias('weekday'),\n",
    "        # pl.col('date').dt.year().alias('year'), #! useless: only 2023\n",
    "        pl.col('date').dt.month().alias('month'),\n",
    "        pl.col('date').dt.day().alias('day')\n",
    "    )\n",
    ")\n",
    "dict_string = test.select(cs.string()).to_dict(as_series=False)\n",
    "test = (   \n",
    "    test\n",
    "    .with_columns(\n",
    "        encoded_train = LabelEncoder().fit_transform(dict_string['train']),\n",
    "        encoded_gare = LabelEncoder().fit_transform(dict_string['gare'])\n",
    "    )\n",
    "    .drop(cs.string(), cs.date())\n",
    "\n",
    ")"
   ]
  },
  {
   "cell_type": "code",
   "execution_count": 3,
   "metadata": {},
   "outputs": [
    {
     "data": {
      "text/html": [
       "<div><style>\n",
       ".dataframe > thead > tr,\n",
       ".dataframe > tbody > tr {\n",
       "  text-align: right;\n",
       "  white-space: pre-wrap;\n",
       "}\n",
       "</style>\n",
       "<small>shape: (533_811, 12)</small><table border=\"1\" class=\"dataframe\"><thead><tr><th>arret</th><th>p2q0</th><th>p3q0</th><th>p4q0</th><th>p0q2</th><th>p0q3</th><th>p0q4</th><th>weekday</th><th>month</th><th>day</th><th>encoded_train</th><th>encoded_gare</th></tr><tr><td>i64</td><td>f64</td><td>f64</td><td>f64</td><td>f64</td><td>f64</td><td>f64</td><td>i8</td><td>i8</td><td>i8</td><td>i64</td><td>i64</td></tr></thead><tbody><tr><td>8</td><td>0.0</td><td>0.0</td><td>1.0</td><td>-3.0</td><td>-1.0</td><td>-2.0</td><td>1</td><td>4</td><td>3</td><td>24311</td><td>34</td></tr><tr><td>9</td><td>0.0</td><td>0.0</td><td>0.0</td><td>1.0</td><td>0.0</td><td>1.0</td><td>1</td><td>4</td><td>3</td><td>24311</td><td>26</td></tr><tr><td>10</td><td>-1.0</td><td>0.0</td><td>0.0</td><td>-1.0</td><td>0.0</td><td>0.0</td><td>1</td><td>4</td><td>3</td><td>24311</td><td>14</td></tr><tr><td>11</td><td>-1.0</td><td>-1.0</td><td>0.0</td><td>2.0</td><td>-2.0</td><td>0.0</td><td>1</td><td>4</td><td>3</td><td>24311</td><td>68</td></tr><tr><td>12</td><td>-1.0</td><td>-1.0</td><td>-1.0</td><td>-1.0</td><td>3.0</td><td>2.0</td><td>1</td><td>4</td><td>3</td><td>24311</td><td>43</td></tr><tr><td>&hellip;</td><td>&hellip;</td><td>&hellip;</td><td>&hellip;</td><td>&hellip;</td><td>&hellip;</td><td>&hellip;</td><td>&hellip;</td><td>&hellip;</td><td>&hellip;</td><td>&hellip;</td><td>&hellip;</td></tr><tr><td>16</td><td>0.0</td><td>1.0</td><td>0.0</td><td>0.0</td><td>-2.0</td><td>0.0</td><td>2</td><td>10</td><td>3</td><td>1029</td><td>68</td></tr><tr><td>17</td><td>0.0</td><td>0.0</td><td>1.0</td><td>0.0</td><td>-2.0</td><td>0.0</td><td>2</td><td>10</td><td>3</td><td>1029</td><td>43</td></tr><tr><td>18</td><td>1.0</td><td>0.0</td><td>0.0</td><td>0.0</td><td>-3.0</td><td>0.0</td><td>2</td><td>10</td><td>3</td><td>1029</td><td>81</td></tr><tr><td>19</td><td>1.0</td><td>1.0</td><td>0.0</td><td>-3.0</td><td>-1.0</td><td>0.0</td><td>2</td><td>10</td><td>3</td><td>1029</td><td>64</td></tr><tr><td>20</td><td>1.0</td><td>1.0</td><td>1.0</td><td>0.0</td><td>0.0</td><td>-1.0</td><td>2</td><td>10</td><td>3</td><td>1029</td><td>36</td></tr></tbody></table></div>"
      ],
      "text/plain": [
       "shape: (533_811, 12)\n",
       "┌───────┬──────┬──────┬──────┬───┬───────┬─────┬───────────────┬──────────────┐\n",
       "│ arret ┆ p2q0 ┆ p3q0 ┆ p4q0 ┆ … ┆ month ┆ day ┆ encoded_train ┆ encoded_gare │\n",
       "│ ---   ┆ ---  ┆ ---  ┆ ---  ┆   ┆ ---   ┆ --- ┆ ---           ┆ ---          │\n",
       "│ i64   ┆ f64  ┆ f64  ┆ f64  ┆   ┆ i8    ┆ i8  ┆ i64           ┆ i64          │\n",
       "╞═══════╪══════╪══════╪══════╪═══╪═══════╪═════╪═══════════════╪══════════════╡\n",
       "│ 8     ┆ 0.0  ┆ 0.0  ┆ 1.0  ┆ … ┆ 4     ┆ 3   ┆ 24311         ┆ 34           │\n",
       "│ 9     ┆ 0.0  ┆ 0.0  ┆ 0.0  ┆ … ┆ 4     ┆ 3   ┆ 24311         ┆ 26           │\n",
       "│ 10    ┆ -1.0 ┆ 0.0  ┆ 0.0  ┆ … ┆ 4     ┆ 3   ┆ 24311         ┆ 14           │\n",
       "│ 11    ┆ -1.0 ┆ -1.0 ┆ 0.0  ┆ … ┆ 4     ┆ 3   ┆ 24311         ┆ 68           │\n",
       "│ 12    ┆ -1.0 ┆ -1.0 ┆ -1.0 ┆ … ┆ 4     ┆ 3   ┆ 24311         ┆ 43           │\n",
       "│ …     ┆ …    ┆ …    ┆ …    ┆ … ┆ …     ┆ …   ┆ …             ┆ …            │\n",
       "│ 16    ┆ 0.0  ┆ 1.0  ┆ 0.0  ┆ … ┆ 10    ┆ 3   ┆ 1029          ┆ 68           │\n",
       "│ 17    ┆ 0.0  ┆ 0.0  ┆ 1.0  ┆ … ┆ 10    ┆ 3   ┆ 1029          ┆ 43           │\n",
       "│ 18    ┆ 1.0  ┆ 0.0  ┆ 0.0  ┆ … ┆ 10    ┆ 3   ┆ 1029          ┆ 81           │\n",
       "│ 19    ┆ 1.0  ┆ 1.0  ┆ 0.0  ┆ … ┆ 10    ┆ 3   ┆ 1029          ┆ 64           │\n",
       "│ 20    ┆ 1.0  ┆ 1.0  ┆ 1.0  ┆ … ┆ 10    ┆ 3   ┆ 1029          ┆ 36           │\n",
       "└───────┴──────┴──────┴──────┴───┴───────┴─────┴───────────────┴──────────────┘"
      ]
     },
     "execution_count": 3,
     "metadata": {},
     "output_type": "execute_result"
    }
   ],
   "source": [
    "test"
   ]
  },
  {
   "cell_type": "code",
   "execution_count": 4,
   "metadata": {},
   "outputs": [
    {
     "data": {
      "text/plain": [
       "array([[-1.46526568, -1.3231836 , -1.18110151, ..., -0.04444485,\n",
       "         0.09763723,  0.23971931],\n",
       "       [ 0.0860831 ,  0.0860831 , -0.42864226, ...,  0.60080847,\n",
       "         0.60080847,  0.60080847],\n",
       "       [ 0.08531018,  0.08531018,  0.08531018, ...,  0.08531018,\n",
       "         0.6033934 ,  0.6033934 ],\n",
       "       ...,\n",
       "       [-1.55791028, -1.55791028, -1.55791028, ..., -1.55791028,\n",
       "        -1.55791028, -1.55791028],\n",
       "       [ 1.09222656,  1.09222656,  1.09222656, ..., -1.61397382,\n",
       "        -1.61397382, -1.61397382],\n",
       "       [-0.29245576, -0.61992056, -1.11111777, ...,  1.63139996,\n",
       "         0.93553725, -0.21058956]])"
      ]
     },
     "execution_count": 4,
     "metadata": {},
     "output_type": "execute_result"
    }
   ],
   "source": [
    "StandardScaler().fit(test.to_numpy()).transform(test.to_numpy()).transpose()"
   ]
  },
  {
   "cell_type": "code",
   "execution_count": 5,
   "metadata": {},
   "outputs": [],
   "source": [
    "test = pl.DataFrame(\n",
    "    data = dict(zip(test.columns, StandardScaler().fit(test.to_numpy()).transform(test.to_numpy()).transpose() )) #! scaler fit que sur train \n",
    ")"
   ]
  },
  {
   "cell_type": "code",
   "execution_count": null,
   "metadata": {},
   "outputs": [
    {
     "data": {
      "text/html": [
       "<div><style>\n",
       ".dataframe > thead > tr,\n",
       ".dataframe > tbody > tr {\n",
       "  text-align: right;\n",
       "  white-space: pre-wrap;\n",
       "}\n",
       "</style>\n",
       "<small>shape: (533_811, 156)</small><table border=\"1\" class=\"dataframe\"><thead><tr><th>arret</th><th>p2q0</th><th>p3q0</th><th>p4q0</th><th>p0q2</th><th>p0q3</th><th>p0q4</th><th>weekday</th><th>month</th><th>day</th><th>encoded_train</th><th>encoded_gare</th><th>arret_p2q0_multiplied</th><th>arret_p3q0_multiplied</th><th>arret_p4q0_multiplied</th><th>arret_p0q2_multiplied</th><th>arret_p0q3_multiplied</th><th>arret_p0q4_multiplied</th><th>arret_weekday_multiplied</th><th>arret_month_multiplied</th><th>arret_day_multiplied</th><th>arret_encoded_train_multiplied</th><th>arret_encoded_gare_multiplied</th><th>p2q0_p3q0_multiplied</th><th>p2q0_p4q0_multiplied</th><th>p2q0_p0q2_multiplied</th><th>p2q0_p0q3_multiplied</th><th>p2q0_p0q4_multiplied</th><th>p2q0_weekday_multiplied</th><th>p2q0_month_multiplied</th><th>p2q0_day_multiplied</th><th>p2q0_encoded_train_multiplied</th><th>p2q0_encoded_gare_multiplied</th><th>p3q0_p4q0_multiplied</th><th>p3q0_p0q2_multiplied</th><th>p3q0_p0q3_multiplied</th><th>p3q0_p0q4_multiplied</th><th>&hellip;</th><th>p3q0_encoded_gare_multiplied_square</th><th>p4q0_p0q2_multiplied_square</th><th>p4q0_p0q3_multiplied_square</th><th>p4q0_p0q4_multiplied_square</th><th>p4q0_weekday_multiplied_square</th><th>p4q0_month_multiplied_square</th><th>p4q0_day_multiplied_square</th><th>p4q0_encoded_train_multiplied_square</th><th>p4q0_encoded_gare_multiplied_square</th><th>p0q2_p0q3_multiplied_square</th><th>p0q2_p0q4_multiplied_square</th><th>p0q2_weekday_multiplied_square</th><th>p0q2_month_multiplied_square</th><th>p0q2_day_multiplied_square</th><th>p0q2_encoded_train_multiplied_square</th><th>p0q2_encoded_gare_multiplied_square</th><th>p0q3_p0q4_multiplied_square</th><th>p0q3_weekday_multiplied_square</th><th>p0q3_month_multiplied_square</th><th>p0q3_day_multiplied_square</th><th>p0q3_encoded_train_multiplied_square</th><th>p0q3_encoded_gare_multiplied_square</th><th>p0q4_weekday_multiplied_square</th><th>p0q4_month_multiplied_square</th><th>p0q4_day_multiplied_square</th><th>p0q4_encoded_train_multiplied_square</th><th>p0q4_encoded_gare_multiplied_square</th><th>weekday_month_multiplied_square</th><th>weekday_day_multiplied_square</th><th>weekday_encoded_train_multiplied_square</th><th>weekday_encoded_gare_multiplied_square</th><th>month_day_multiplied_square</th><th>month_encoded_train_multiplied_square</th><th>month_encoded_gare_multiplied_square</th><th>day_encoded_train_multiplied_square</th><th>day_encoded_gare_multiplied_square</th><th>encoded_train_encoded_gare_multiplied_square</th></tr><tr><td>f64</td><td>f64</td><td>f64</td><td>f64</td><td>f64</td><td>f64</td><td>f64</td><td>f64</td><td>f64</td><td>f64</td><td>f64</td><td>f64</td><td>f64</td><td>f64</td><td>f64</td><td>f64</td><td>f64</td><td>f64</td><td>f64</td><td>f64</td><td>f64</td><td>f64</td><td>f64</td><td>f64</td><td>f64</td><td>f64</td><td>f64</td><td>f64</td><td>f64</td><td>f64</td><td>f64</td><td>f64</td><td>f64</td><td>f64</td><td>f64</td><td>f64</td><td>f64</td><td>&hellip;</td><td>f64</td><td>f64</td><td>f64</td><td>f64</td><td>f64</td><td>f64</td><td>f64</td><td>f64</td><td>f64</td><td>f64</td><td>f64</td><td>f64</td><td>f64</td><td>f64</td><td>f64</td><td>f64</td><td>f64</td><td>f64</td><td>f64</td><td>f64</td><td>f64</td><td>f64</td><td>f64</td><td>f64</td><td>f64</td><td>f64</td><td>f64</td><td>f64</td><td>f64</td><td>f64</td><td>f64</td><td>f64</td><td>f64</td><td>f64</td><td>f64</td><td>f64</td><td>f64</td></tr></thead><tbody><tr><td>-1.465266</td><td>0.086083</td><td>0.08531</td><td>0.620097</td><td>-1.467297</td><td>-0.30091</td><td>-0.352369</td><td>-1.441567</td><td>-1.216083</td><td>-1.55791</td><td>1.092227</td><td>-0.292456</td><td>-0.150739</td><td>-0.138783</td><td>-0.979862</td><td>2.173955</td><td>0.585502</td><td>0.663018</td><td>2.117761</td><td>1.780098</td><td>2.273517</td><td>-1.599571</td><td>0.442847</td><td>-0.017766</td><td>0.052483</td><td>-0.014439</td><td>-0.006982</td><td>-0.010063</td><td>-0.128835</td><td>-0.0856</td><td>-0.154948</td><td>0.100499</td><td>-0.009989</td><td>-0.015745</td><td>-0.019814</td><td>-0.010132</td><td>-0.01471</td><td>&hellip;</td><td>-0.017596</td><td>-0.002547</td><td>-0.003511</td><td>-0.002774</td><td>-0.005701</td><td>-0.008929</td><td>0.012344</td><td>-0.014383</td><td>-0.017184</td><td>-0.002953</td><td>-0.003799</td><td>0.148665</td><td>0.039701</td><td>0.268262</td><td>0.035892</td><td>-0.015417</td><td>-0.002919</td><td>-0.024908</td><td>-0.015028</td><td>-0.002405</td><td>-0.006651</td><td>-0.002528</td><td>-0.001731</td><td>-0.001998</td><td>-0.000836</td><td>-0.001937</td><td>-0.003202</td><td>1.271563</td><td>2.5736</td><td>1.013612</td><td>-0.541802</td><td>1.377603</td><td>0.511604</td><td>-0.562254</td><td>1.186005</td><td>-0.483858</td><td>-0.577292</td></tr><tr><td>-1.323184</td><td>0.086083</td><td>0.08531</td><td>0.091992</td><td>0.598992</td><td>0.06198</td><td>0.226497</td><td>-1.441567</td><td>-1.216083</td><td>-1.55791</td><td>1.092227</td><td>-0.619921</td><td>-0.13771</td><td>-0.125636</td><td>-0.11268</td><td>-0.869438</td><td>-0.151226</td><td>-0.419219</td><td>1.912768</td><td>1.606858</td><td>2.052319</td><td>-1.444242</td><td>0.848702</td><td>-0.017766</td><td>0.032114</td><td>-0.000506</td><td>-0.00332</td><td>0.003622</td><td>-0.128835</td><td>-0.0856</td><td>-0.154948</td><td>0.100499</td><td>-0.038983</td><td>-0.017628</td><td>-0.004027</td><td>-0.007286</td><td>-0.003919</td><td>&hellip;</td><td>-0.017557</td><td>-0.002557</td><td>-0.003513</td><td>-0.002781</td><td>-0.035694</td><td>-0.018359</td><td>-0.044869</td><td>-0.030252</td><td>-0.01766</td><td>-0.002959</td><td>-0.003845</td><td>-0.009169</td><td>-0.009784</td><td>0.005931</td><td>-0.012175</td><td>-0.016224</td><td>-0.002921</td><td>-0.040964</td><td>-0.019801</td><td>-0.003823</td><td>-0.008081</td><td>-0.002542</td><td>-0.002215</td><td>-0.003222</td><td>-0.002939</td><td>-0.002245</td><td>-0.003174</td><td>1.271563</td><td>2.5736</td><td>1.013612</td><td>-0.132041</td><td>1.377603</td><td>0.511604</td><td>-0.280077</td><td>1.186005</td><td>-0.04136</td><td>-0.34825</td></tr><tr><td>-1.181102</td><td>-0.428642</td><td>0.08531</td><td>0.091992</td><td>-0.434153</td><td>0.06198</td><td>0.033542</td><td>-1.441567</td><td>-1.216083</td><td>-1.55791</td><td>1.092227</td><td>-1.111118</td><td>0.522926</td><td>-0.112488</td><td>-0.098276</td><td>0.480649</td><td>-0.138819</td><td>-0.074286</td><td>1.707776</td><td>1.433618</td><td>1.83112</td><td>-1.288913</td><td>1.358501</td><td>-0.019594</td><td>0.010899</td><td>0.010032</td><td>-0.00706</td><td>-0.005681</td><td>0.632158</td><td>0.507262</td><td>0.770082</td><td>-0.500854</td><td>0.50578</td><td>-0.017628</td><td>-0.011921</td><td>-0.007286</td><td>-0.007516</td><td>&hellip;</td><td>-0.017447</td><td>-0.002557</td><td>-0.003513</td><td>-0.002781</td><td>-0.035694</td><td>-0.018359</td><td>-0.044869</td><td>-0.030252</td><td>-0.017544</td><td>-0.002959</td><td>-0.003849</td><td>-0.024151</td><td>-0.014481</td><td>-0.01897</td><td>-0.016737</td><td>-0.014571</td><td>-0.002921</td><td>-0.040964</td><td>-0.019801</td><td>-0.003823</td><td>-0.008081</td><td>-0.002535</td><td>-0.002549</td><td>-0.004065</td><td>-0.004387</td><td>-0.002457</td><td>-0.00323</td><td>1.271563</td><td>2.5736</td><td>1.013612</td><td>1.034108</td><td>1.377603</td><td>0.511604</td><td>0.522977</td><td>1.186005</td><td>1.217959</td><td>0.303585</td></tr><tr><td>-1.039019</td><td>-0.428642</td><td>-0.432773</td><td>0.091992</td><td>1.115564</td><td>-0.663801</td><td>0.033542</td><td>-1.441567</td><td>-1.216083</td><td>-1.55791</td><td>1.092227</td><td>1.09927</td><td>0.45805</td><td>0.484558</td><td>-0.083872</td><td>-1.248515</td><td>0.93601</td><td>-0.067965</td><td>1.502783</td><td>1.260378</td><td>1.609922</td><td>-1.133584</td><td>-1.184419</td><td>-0.01035</td><td>0.010899</td><td>-0.042001</td><td>0.029417</td><td>-0.005681</td><td>0.632158</td><td>0.507262</td><td>0.770082</td><td>-0.500854</td><td>-0.468745</td><td>-0.01962</td><td>-0.05184</td><td>0.018639</td><td>-0.011313</td><td>&hellip;</td><td>-0.013576</td><td>-0.002557</td><td>-0.003512</td><td>-0.002781</td><td>-0.035694</td><td>-0.018359</td><td>-0.044869</td><td>-0.030252</td><td>-0.017548</td><td>-0.002941</td><td>-0.003849</td><td>0.068746</td><td>0.014645</td><td>0.135431</td><td>0.011553</td><td>0.007594</td><td>-0.002921</td><td>0.039923</td><td>0.004242</td><td>0.003319</td><td>-0.000873</td><td>-0.00137</td><td>-0.002549</td><td>-0.004065</td><td>-0.004387</td><td>-0.002457</td><td>-0.00323</td><td>1.271563</td><td>2.5736</td><td>1.013612</td><td>0.99819</td><td>1.377603</td><td>0.511604</td><td>0.498243</td><td>1.186005</td><td>1.179172</td><td>0.283508</td></tr><tr><td>-0.896937</td><td>-0.428642</td><td>-0.432773</td><td>-0.436113</td><td>-0.434153</td><td>1.150652</td><td>0.419453</td><td>-1.441567</td><td>-1.216083</td><td>-1.55791</td><td>1.092227</td><td>0.075942</td><td>0.393174</td><td>0.41786</td><td>0.452546</td><td>0.35305</td><td>-1.489716</td><td>-0.520711</td><td>1.297791</td><td>1.087138</td><td>1.388723</td><td>-0.978255</td><td>-0.071683</td><td>-0.01035</td><td>0.112324</td><td>0.010032</td><td>-0.061777</td><td>-0.051109</td><td>0.632158</td><td>0.507262</td><td>0.770082</td><td>-0.500854</td><td>-0.017576</td><td>-0.010068</td><td>0.008223</td><td>-0.053555</td><td>-0.047806</td><td>&hellip;</td><td>-0.017588</td><td>-0.002557</td><td>-0.003502</td><td>-0.002776</td><td>-0.0212</td><td>-0.013802</td><td>-0.01722</td><td>-0.022583</td><td>-0.017695</td><td>-0.002951</td><td>-0.003843</td><td>-0.024151</td><td>-0.014481</td><td>-0.01897</td><td>-0.016737</td><td>-0.018609</td><td>-0.002864</td><td>0.20351</td><td>0.052865</td><td>0.017762</td><td>0.013704</td><td>-0.002528</td><td>-0.001387</td><td>-0.001128</td><td>0.000658</td><td>-0.001718</td><td>-0.003231</td><td>1.271563</td><td>2.5736</td><td>1.013612</td><td>-0.651196</td><td>1.377603</td><td>0.511604</td><td>-0.637587</td><td>1.186005</td><td>-0.601992</td><td>-0.638439</td></tr><tr><td>&hellip;</td><td>&hellip;</td><td>&hellip;</td><td>&hellip;</td><td>&hellip;</td><td>&hellip;</td><td>&hellip;</td><td>&hellip;</td><td>&hellip;</td><td>&hellip;</td><td>&hellip;</td><td>&hellip;</td><td>&hellip;</td><td>&hellip;</td><td>&hellip;</td><td>&hellip;</td><td>&hellip;</td><td>&hellip;</td><td>&hellip;</td><td>&hellip;</td><td>&hellip;</td><td>&hellip;</td><td>&hellip;</td><td>&hellip;</td><td>&hellip;</td><td>&hellip;</td><td>&hellip;</td><td>&hellip;</td><td>&hellip;</td><td>&hellip;</td><td>&hellip;</td><td>&hellip;</td><td>&hellip;</td><td>&hellip;</td><td>&hellip;</td><td>&hellip;</td><td>&hellip;</td><td>&hellip;</td><td>&hellip;</td><td>&hellip;</td><td>&hellip;</td><td>&hellip;</td><td>&hellip;</td><td>&hellip;</td><td>&hellip;</td><td>&hellip;</td><td>&hellip;</td><td>&hellip;</td><td>&hellip;</td><td>&hellip;</td><td>&hellip;</td><td>&hellip;</td><td>&hellip;</td><td>&hellip;</td><td>&hellip;</td><td>&hellip;</td><td>&hellip;</td><td>&hellip;</td><td>&hellip;</td><td>&hellip;</td><td>&hellip;</td><td>&hellip;</td><td>&hellip;</td><td>&hellip;</td><td>&hellip;</td><td>&hellip;</td><td>&hellip;</td><td>&hellip;</td><td>&hellip;</td><td>&hellip;</td><td>&hellip;</td><td>&hellip;</td><td>&hellip;</td><td>&hellip;</td><td>&hellip;</td></tr><tr><td>-0.328609</td><td>0.086083</td><td>0.603393</td><td>0.091992</td><td>0.08242</td><td>-0.663801</td><td>0.033542</td><td>-0.721911</td><td>1.924277</td><td>-1.55791</td><td>-1.613974</td><td>1.09927</td><td>-0.046508</td><td>-0.218269</td><td>-0.011851</td><td>-0.077714</td><td>0.271633</td><td>-0.036362</td><td>0.241138</td><td>-0.6405</td><td>0.503929</td><td>0.533164</td><td>-0.375356</td><td>-0.01591</td><td>0.032114</td><td>-0.003989</td><td>-0.010645</td><td>-0.00094</td><td>-0.0653</td><td>0.170443</td><td>-0.154948</td><td>-0.148685</td><td>0.113237</td><td>-0.015636</td><td>-0.00415</td><td>-0.044596</td><td>-0.003719</td><td>&hellip;</td><td>-0.00977</td><td>-0.002557</td><td>-0.003512</td><td>-0.002781</td><td>-0.0362</td><td>-0.01804</td><td>-0.044869</td><td>-0.02983</td><td>-0.017548</td><td>-0.002959</td><td>-0.003849</td><td>-0.040582</td><td>-0.019211</td><td>-0.045536</td><td>-0.021389</td><td>-0.018485</td><td>-0.002921</td><td>-0.021212</td><td>0.040716</td><td>0.003319</td><td>0.007733</td><td>-0.00137</td><td>-0.002554</td><td>-0.004036</td><td>-0.004387</td><td>-0.002452</td><td>-0.00323</td><td>0.551696</td><td>0.161536</td><td>0.245921</td><td>-0.243484</td><td>4.288681</td><td>5.779812</td><td>2.214555</td><td>3.335374</td><td>1.179172</td><td>1.379932</td></tr><tr><td>-0.186527</td><td>0.086083</td><td>0.08531</td><td>0.620097</td><td>0.08242</td><td>-0.663801</td><td>0.033542</td><td>-0.721911</td><td>1.924277</td><td>-1.55791</td><td>-1.613974</td><td>0.075942</td><td>-0.033479</td><td>-0.020453</td><td>-0.106004</td><td>-0.065602</td><td>0.138757</td><td>-0.030042</td><td>0.138482</td><td>-0.366372</td><td>0.282731</td><td>0.303635</td><td>-0.01579</td><td>-0.017766</td><td>0.052483</td><td>-0.003989</td><td>-0.010645</td><td>-0.00094</td><td>-0.0653</td><td>0.170443</td><td>-0.154948</td><td>-0.148685</td><td>0.02263</td><td>-0.015745</td><td>-0.007974</td><td>-0.012978</td><td>-0.007516</td><td>&hellip;</td><td>-0.017606</td><td>-0.002557</td><td>-0.003506</td><td>-0.002781</td><td>-0.028678</td><td>0.005573</td><td>0.012344</td><td>0.004823</td><td>-0.017677</td><td>-0.002959</td><td>-0.003849</td><td>-0.040582</td><td>-0.019211</td><td>-0.045536</td><td>-0.021389</td><td>-0.018628</td><td>-0.002921</td><td>-0.021212</td><td>0.040716</td><td>0.003319</td><td>0.007733</td><td>-0.00254</td><td>-0.002554</td><td>-0.004036</td><td>-0.004387</td><td>-0.002452</td><td>-0.003234</td><td>0.551696</td><td>0.161536</td><td>0.245921</td><td>-0.657122</td><td>4.288681</td><td>5.779812</td><td>-0.629396</td><td>3.335374</td><td>-0.601992</td><td>-0.633206</td></tr><tr><td>-0.044445</td><td>0.600808</td><td>0.08531</td><td>0.091992</td><td>0.08242</td><td>-1.026691</td><td>0.033542</td><td>-0.721911</td><td>1.924277</td><td>-1.55791</td><td>-1.613974</td><td>1.6314</td><td>-0.04482</td><td>-0.007305</td><td>0.016958</td><td>-0.05349</td><td>0.028605</td><td>-0.023721</td><td>0.035825</td><td>-0.092245</td><td>0.061533</td><td>0.074107</td><td>-0.076234</td><td>-0.015938</td><td>0.05333</td><td>-0.000666</td><td>-0.076273</td><td>0.003801</td><td>-0.446392</td><td>1.108562</td><td>-1.079978</td><td>-1.037299</td><td>1.024058</td><td>-0.017628</td><td>-0.007974</td><td>-0.015825</td><td>-0.007516</td><td>&hellip;</td><td>-0.017262</td><td>-0.002557</td><td>-0.003512</td><td>-0.002781</td><td>-0.0362</td><td>-0.01804</td><td>-0.044869</td><td>-0.02983</td><td>-0.01735</td><td>-0.002959</td><td>-0.003849</td><td>-0.040582</td><td>-0.019211</td><td>-0.045536</td><td>-0.021389</td><td>-0.018313</td><td>-0.002921</td><td>0.007278</td><td>0.125264</td><td>0.013349</td><td>0.029839</td><td>0.003647</td><td>-0.002554</td><td>-0.004036</td><td>-0.004387</td><td>-0.002452</td><td>-0.003225</td><td>0.551696</td><td>0.161536</td><td>0.245921</td><td>0.256293</td><td>4.288681</td><td>5.779812</td><td>5.650755</td><td>3.335374</td><td>3.331261</td><td>3.812305</td></tr><tr><td>0.097637</td><td>0.600808</td><td>0.603393</td><td>0.091992</td><td>-1.467297</td><td>-0.30091</td><td>0.033542</td><td>-0.721911</td><td>1.924277</td><td>-1.55791</td><td>-1.613974</td><td>0.935537</td><td>0.046114</td><td>0.060712</td><td>0.031362</td><td>-0.197874</td><td>-0.077076</td><td>-0.017401</td><td>-0.066832</td><td>0.181883</td><td>-0.159666</td><td>-0.155422</td><td>0.093519</td><td>-0.00298</td><td>0.05333</td><td>-0.073598</td><td>-0.025143</td><td>0.003801</td><td>-0.446392</td><td>1.108562</td><td>-1.079978</td><td>-1.037299</td><td>0.594037</td><td>-0.015636</td><td>-0.087893</td><td>-0.024465</td><td>-0.003719</td><td>&hellip;</td><td>-0.011931</td><td>-0.002557</td><td>-0.003513</td><td>-0.002781</td><td>-0.0362</td><td>-0.01804</td><td>-0.044869</td><td>-0.02983</td><td>-0.017593</td><td>-0.002953</td><td>-0.003848</td><td>0.006766</td><td>0.129002</td><td>0.268262</td><td>0.104158</td><td>0.014229</td><td>-0.002921</td><td>-0.037471</td><td>-0.007533</td><td>-0.002405</td><td>-0.004882</td><td>-0.00237</td><td>-0.002554</td><td>-0.004036</td><td>-0.004387</td><td>-0.002452</td><td>-0.003231</td><td>0.551696</td><td>0.161536</td><td>0.245921</td><td>-0.358074</td><td>4.288681</td><td>5.779812</td><td>1.426695</td><td>3.335374</td><td>0.685735</td><td>0.822232</td></tr><tr><td>0.239719</td><td>0.600808</td><td>0.603393</td><td>0.620097</td><td>0.08242</td><td>0.06198</td><td>-0.159413</td><td>-0.721911</td><td>1.924277</td><td>-1.55791</td><td>-1.613974</td><td>-0.21059</td><td>0.137047</td><td>0.153705</td><td>0.185282</td><td>-0.029267</td><td>-0.014751</td><td>-0.072426</td><td>-0.169488</td><td>0.456011</td><td>-0.380864</td><td>-0.38495</td><td>-0.053415</td><td>-0.00298</td><td>0.195493</td><td>-0.000666</td><td>0.000421</td><td>-0.028035</td><td>-0.446392</td><td>1.108562</td><td>-1.079978</td><td>-1.037299</td><td>-0.114232</td><td>-0.002317</td><td>-0.00415</td><td>-0.004334</td><td>-0.029159</td><td>&hellip;</td><td>-0.01732</td><td>-0.002557</td><td>-0.003513</td><td>-0.00278</td><td>-0.028678</td><td>0.005573</td><td>0.012344</td><td>0.004823</td><td>-0.017438</td><td>-0.002959</td><td>-0.003849</td><td>-0.040582</td><td>-0.019211</td><td>-0.045536</td><td>-0.021389</td><td>-0.018623</td><td>-0.002921</td><td>-0.041497</td><td>-0.019483</td><td>-0.003823</td><td>-0.008006</td><td>-0.002545</td><td>-0.002514</td><td>-0.003015</td><td>-0.003686</td><td>-0.002227</td><td>-0.003231</td><td>0.551696</td><td>0.161536</td><td>0.245921</td><td>-0.643852</td><td>4.288681</td><td>5.779812</td><td>-0.53816</td><td>3.335374</td><td>-0.544852</td><td>-0.568624</td></tr></tbody></table></div>"
      ],
      "text/plain": [
       "shape: (533_811, 156)\n",
       "┌───────────┬───────────┬───────────┬───────────┬───┬───────────┬───────────┬───────────┬──────────┐\n",
       "│ arret     ┆ p2q0      ┆ p3q0      ┆ p4q0      ┆ … ┆ month_enc ┆ day_encod ┆ day_encod ┆ encoded_ │\n",
       "│ ---       ┆ ---       ┆ ---       ┆ ---       ┆   ┆ oded_gare ┆ ed_train_ ┆ ed_gare_m ┆ train_en │\n",
       "│ f64       ┆ f64       ┆ f64       ┆ f64       ┆   ┆ _multipli ┆ multiplie ┆ ultiplied ┆ coded_ga │\n",
       "│           ┆           ┆           ┆           ┆   ┆ ed_…      ┆ d_s…      ┆ _sq…      ┆ re_mul…  │\n",
       "│           ┆           ┆           ┆           ┆   ┆ ---       ┆ ---       ┆ ---       ┆ ---      │\n",
       "│           ┆           ┆           ┆           ┆   ┆ f64       ┆ f64       ┆ f64       ┆ f64      │\n",
       "╞═══════════╪═══════════╪═══════════╪═══════════╪═══╪═══════════╪═══════════╪═══════════╪══════════╡\n",
       "│ -1.465266 ┆ 0.086083  ┆ 0.08531   ┆ 0.620097  ┆ … ┆ -0.562254 ┆ 1.186005  ┆ -0.483858 ┆ -0.57729 │\n",
       "│           ┆           ┆           ┆           ┆   ┆           ┆           ┆           ┆ 2        │\n",
       "│ -1.323184 ┆ 0.086083  ┆ 0.08531   ┆ 0.091992  ┆ … ┆ -0.280077 ┆ 1.186005  ┆ -0.04136  ┆ -0.34825 │\n",
       "│ -1.181102 ┆ -0.428642 ┆ 0.08531   ┆ 0.091992  ┆ … ┆ 0.522977  ┆ 1.186005  ┆ 1.217959  ┆ 0.303585 │\n",
       "│ -1.039019 ┆ -0.428642 ┆ -0.432773 ┆ 0.091992  ┆ … ┆ 0.498243  ┆ 1.186005  ┆ 1.179172  ┆ 0.283508 │\n",
       "│ -0.896937 ┆ -0.428642 ┆ -0.432773 ┆ -0.436113 ┆ … ┆ -0.637587 ┆ 1.186005  ┆ -0.601992 ┆ -0.63843 │\n",
       "│           ┆           ┆           ┆           ┆   ┆           ┆           ┆           ┆ 9        │\n",
       "│ …         ┆ …         ┆ …         ┆ …         ┆ … ┆ …         ┆ …         ┆ …         ┆ …        │\n",
       "│ -0.328609 ┆ 0.086083  ┆ 0.603393  ┆ 0.091992  ┆ … ┆ 2.214555  ┆ 3.335374  ┆ 1.179172  ┆ 1.379932 │\n",
       "│ -0.186527 ┆ 0.086083  ┆ 0.08531   ┆ 0.620097  ┆ … ┆ -0.629396 ┆ 3.335374  ┆ -0.601992 ┆ -0.63320 │\n",
       "│           ┆           ┆           ┆           ┆   ┆           ┆           ┆           ┆ 6        │\n",
       "│ -0.044445 ┆ 0.600808  ┆ 0.08531   ┆ 0.091992  ┆ … ┆ 5.650755  ┆ 3.335374  ┆ 3.331261  ┆ 3.812305 │\n",
       "│ 0.097637  ┆ 0.600808  ┆ 0.603393  ┆ 0.091992  ┆ … ┆ 1.426695  ┆ 3.335374  ┆ 0.685735  ┆ 0.822232 │\n",
       "│ 0.239719  ┆ 0.600808  ┆ 0.603393  ┆ 0.620097  ┆ … ┆ -0.53816  ┆ 3.335374  ┆ -0.544852 ┆ -0.56862 │\n",
       "│           ┆           ┆           ┆           ┆   ┆           ┆           ┆           ┆ 4        │\n",
       "└───────────┴───────────┴───────────┴───────────┴───┴───────────┴───────────┴───────────┴──────────┘"
      ]
     },
     "execution_count": 7,
     "metadata": {},
     "output_type": "execute_result"
    }
   ],
   "source": [
    "test = FeaturesFrame(test).add_feature_interactions().add_feature_square().scale_standard(set=\"train\")[1]"
   ]
  },
  {
   "cell_type": "code",
   "execution_count": null,
   "metadata": {},
   "outputs": [],
   "source": []
  }
 ],
 "metadata": {
  "kernelspec": {
   "display_name": "challengedata",
   "language": "python",
   "name": "python3"
  },
  "language_info": {
   "codemirror_mode": {
    "name": "ipython",
    "version": 3
   },
   "file_extension": ".py",
   "mimetype": "text/x-python",
   "name": "python",
   "nbconvert_exporter": "python",
   "pygments_lexer": "ipython3",
   "version": "3.11.11"
  }
 },
 "nbformat": 4,
 "nbformat_minor": 2
}
