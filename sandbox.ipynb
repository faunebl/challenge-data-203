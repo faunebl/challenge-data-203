{
 "cells": [
  {
   "cell_type": "code",
   "execution_count": 5,
   "metadata": {},
   "outputs": [],
   "source": [
    "import polars as pl\n",
    "import polars.selectors as cs\n",
    "from utils import PathsData, import_data, split_data, plot_correlation\n",
    "from features import FeaturesFrame\n",
    "from models import Model, ModelEnum, ParamGridEnum\n",
    "\n",
    "# import matplotlib.pyplot as plt\n",
    "# import seaborn as sns\n",
    "# from sklearn.tree import DecisionTreeRegressor\n",
    "# from sklearn.metrics import mean_absolute_error, mean_squared_error, r2_score\n",
    "# from sklearn.preprocessing import OneHotEncoder, LabelEncoder, StandardScaler\n",
    "\n",
    "x_validation = import_data(PathsData.X_TEST.value) #! to use in the end to make a submission\n",
    "x = import_data(PathsData.X_TRAIN.value)\n",
    "y = import_data(PathsData.Y_TRAIN.value)\n",
    "\n",
    "x_train, x_test, y_train, y_test = split_data(x=x, y=y)"
   ]
  },
  {
   "cell_type": "code",
   "execution_count": 6,
   "metadata": {},
   "outputs": [],
   "source": [
    "test_train = FeaturesFrame(x_train).encode_label() #.add_feature_square().scale_standard() #.add_feature_interactions() #.add_feature_square() #.scale_standard(set=\"train\")\n",
    "test_test = FeaturesFrame(x_test).encode_label() #.add_feature_square().scale_standard(set='test', train_scaler=scaler) #.add_feature_interactions() #.add_feature_square() #.scale_standard(set=\"test\", train_scaler=scaler)"
   ]
  },
  {
   "cell_type": "code",
   "execution_count": 9,
   "metadata": {},
   "outputs": [],
   "source": [
    "test_train = test_train.select('arret','encoded_gare')\n",
    "test_test = test_test.select('arret', 'encoded_gare')"
   ]
  },
  {
   "cell_type": "code",
   "execution_count": 10,
   "metadata": {},
   "outputs": [
    {
     "name": "stdout",
     "output_type": "stream",
     "text": [
      "Model Evaluation - MSE: 4.3097, R2: 0.0675, MAE: 0.8515\n"
     ]
    },
    {
     "data": {
      "text/plain": [
       "(4.30968257451896, 0.06750007177579564, 0.8515066898405728)"
      ]
     },
     "execution_count": 10,
     "metadata": {},
     "output_type": "execute_result"
    }
   ],
   "source": [
    "model = Model(model_enum=ModelEnum.XGBoost)\n",
    "model_fit = model.fit(test_train.to_numpy(), y_train=y_train.to_numpy())\n",
    "model.evaluate(X_test=test_test.to_numpy(), y_test=y_test.to_numpy())"
   ]
  },
  {
   "cell_type": "code",
   "execution_count": null,
   "metadata": {},
   "outputs": [
    {
     "name": "stdout",
     "output_type": "stream",
     "text": [
      "Fitting 3 folds for each of 108 candidates, totalling 324 fits\n"
     ]
    }
   ],
   "source": [
    "model = Model(model_enum=ModelEnum.XGBoost)\n",
    "params_opti_mlp = model.grid_search(test_train.to_pandas(), y_train=y_train.to_pandas(), param_grid = ParamGridEnum.XGBoost.value)"
   ]
  },
  {
   "cell_type": "code",
   "execution_count": null,
   "metadata": {},
   "outputs": [],
   "source": [
    "# model = Model(model_enum=ModelEnum.GradientBoosting)\n",
    "# params_opti_gb = model.optimize_parameters(test_train.to_pandas(), y_train=y_train.to_pandas(), param_grid = ParamGridEnum.GradientBoosting.value)"
   ]
  },
  {
   "cell_type": "code",
   "execution_count": null,
   "metadata": {},
   "outputs": [],
   "source": [
    "# model = Model(model_enum=ModelEnum.SVR)\n",
    "# params_opti_svr = model.optimize_parameters(test_train.to_pandas(), y_train=y_train.to_pandas(), param_grid = ParamGridEnum.SVR.value)"
   ]
  },
  {
   "cell_type": "code",
   "execution_count": null,
   "metadata": {},
   "outputs": [],
   "source": [
    "# model = Model(model_enum=ModelEnum.KNN)\n",
    "# params_opti_knn = model.optimize_parameters(test_train.to_pandas(), y_train=y_train.to_pandas(), param_grid = ParamGridEnum.KNN.value)"
   ]
  }
 ],
 "metadata": {
  "kernelspec": {
   "display_name": "challengedata",
   "language": "python",
   "name": "python3"
  },
  "language_info": {
   "codemirror_mode": {
    "name": "ipython",
    "version": 3
   },
   "file_extension": ".py",
   "mimetype": "text/x-python",
   "name": "python",
   "nbconvert_exporter": "python",
   "pygments_lexer": "ipython3",
   "version": "3.11.11"
  }
 },
 "nbformat": 4,
 "nbformat_minor": 2
}
