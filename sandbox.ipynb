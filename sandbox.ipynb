{
 "cells": [
  {
   "cell_type": "code",
   "execution_count": 1,
   "metadata": {},
   "outputs": [],
   "source": [
    "import polars as pl\n",
    "import polars.selectors as cs\n",
    "from utils import PathsData, import_data, split_data, plot_correlation\n",
    "from features import FeaturesFrame\n",
    "\n",
    "import matplotlib.pyplot as plt\n",
    "import seaborn as sns\n",
    "from sklearn.tree import DecisionTreeRegressor\n",
    "from sklearn.metrics import mean_absolute_error, mean_squared_error, r2_score\n",
    "\n",
    "x_validation = import_data(PathsData.X_TEST.value) #to use in the end to make a submission\n",
    "x = import_data(PathsData.X_TRAIN.value)\n",
    "y = import_data(PathsData.Y_TRAIN.value)\n",
    "\n",
    "x_train, x_test, y_train, y_test = split_data(x=x, y=y)"
   ]
  },
  {
   "cell_type": "code",
   "execution_count": 5,
   "metadata": {},
   "outputs": [
    {
     "data": {
      "text/html": [
       "<div><style>\n",
       ".dataframe > thead > tr,\n",
       ".dataframe > tbody > tr {\n",
       "  text-align: right;\n",
       "  white-space: pre-wrap;\n",
       "}\n",
       "</style>\n",
       "<small>shape: (533_811, 171)</small><table border=\"1\" class=\"dataframe\"><thead><tr><th>train</th><th>gare</th><th>date</th><th>arret</th><th>p2q0</th><th>p3q0</th><th>p4q0</th><th>p0q2</th><th>p0q3</th><th>p0q4</th><th>arret_p2q0_multiplied</th><th>arret_p3q0_multiplied</th><th>arret_p4q0_multiplied</th><th>arret_p0q2_multiplied</th><th>arret_p0q3_multiplied</th><th>arret_p0q4_multiplied</th><th>p2q0_p3q0_multiplied</th><th>p2q0_p4q0_multiplied</th><th>p2q0_p0q2_multiplied</th><th>p2q0_p0q3_multiplied</th><th>p2q0_p0q4_multiplied</th><th>p3q0_p4q0_multiplied</th><th>p3q0_p0q2_multiplied</th><th>p3q0_p0q3_multiplied</th><th>p3q0_p0q4_multiplied</th><th>p4q0_p0q2_multiplied</th><th>p4q0_p0q3_multiplied</th><th>p4q0_p0q4_multiplied</th><th>p0q2_p0q3_multiplied</th><th>p0q2_p0q4_multiplied</th><th>p0q3_p0q4_multiplied</th><th>arret_log</th><th>p2q0_log</th><th>p3q0_log</th><th>p4q0_log</th><th>p0q2_log</th><th>p0q3_log</th><th>&hellip;</th><th>p3q0_p0q2_multiplied_square_square</th><th>p3q0_p0q3_multiplied_square_square</th><th>p3q0_p0q4_multiplied_square_square</th><th>p4q0_p0q2_multiplied_square_square</th><th>p4q0_p0q3_multiplied_square_square</th><th>p4q0_p0q4_multiplied_square_square</th><th>p0q2_p0q3_multiplied_square_square</th><th>p0q2_p0q4_multiplied_square_square</th><th>p0q3_p0q4_multiplied_square_square</th><th>arret_log_square_square</th><th>p2q0_log_square_square</th><th>p3q0_log_square_square</th><th>p4q0_log_square_square</th><th>p0q2_log_square_square</th><th>p0q3_log_square_square</th><th>p0q4_log_square_square</th><th>arret_p2q0_multiplied_log_square_square</th><th>arret_p3q0_multiplied_log_square_square</th><th>arret_p4q0_multiplied_log_square_square</th><th>arret_p0q2_multiplied_log_square_square</th><th>arret_p0q3_multiplied_log_square_square</th><th>arret_p0q4_multiplied_log_square_square</th><th>p2q0_p3q0_multiplied_log_square_square</th><th>p2q0_p4q0_multiplied_log_square_square</th><th>p2q0_p0q2_multiplied_log_square_square</th><th>p2q0_p0q3_multiplied_log_square_square</th><th>p2q0_p0q4_multiplied_log_square_square</th><th>p3q0_p4q0_multiplied_log_square_square</th><th>p3q0_p0q2_multiplied_log_square_square</th><th>p3q0_p0q3_multiplied_log_square_square</th><th>p3q0_p0q4_multiplied_log_square_square</th><th>p4q0_p0q2_multiplied_log_square_square</th><th>p4q0_p0q3_multiplied_log_square_square</th><th>p4q0_p0q4_multiplied_log_square_square</th><th>p0q2_p0q3_multiplied_log_square_square</th><th>p0q2_p0q4_multiplied_log_square_square</th><th>p0q3_p0q4_multiplied_log_square_square</th></tr><tr><td>str</td><td>str</td><td>str</td><td>i64</td><td>f64</td><td>f64</td><td>f64</td><td>f64</td><td>f64</td><td>f64</td><td>f64</td><td>f64</td><td>f64</td><td>f64</td><td>f64</td><td>f64</td><td>f64</td><td>f64</td><td>f64</td><td>f64</td><td>f64</td><td>f64</td><td>f64</td><td>f64</td><td>f64</td><td>f64</td><td>f64</td><td>f64</td><td>f64</td><td>f64</td><td>f64</td><td>f64</td><td>f64</td><td>f64</td><td>f64</td><td>f64</td><td>f64</td><td>&hellip;</td><td>f64</td><td>f64</td><td>f64</td><td>f64</td><td>f64</td><td>f64</td><td>f64</td><td>f64</td><td>f64</td><td>f64</td><td>f64</td><td>f64</td><td>f64</td><td>f64</td><td>f64</td><td>f64</td><td>f64</td><td>f64</td><td>f64</td><td>f64</td><td>f64</td><td>f64</td><td>f64</td><td>f64</td><td>f64</td><td>f64</td><td>f64</td><td>f64</td><td>f64</td><td>f64</td><td>f64</td><td>f64</td><td>f64</td><td>f64</td><td>f64</td><td>f64</td><td>f64</td></tr></thead><tbody><tr><td>&quot;VBXNMF&quot;</td><td>&quot;KYF&quot;</td><td>&quot;2023-04-03&quot;</td><td>8</td><td>0.0</td><td>0.0</td><td>1.0</td><td>-3.0</td><td>-1.0</td><td>-2.0</td><td>0.0</td><td>0.0</td><td>8.0</td><td>-24.0</td><td>-8.0</td><td>-16.0</td><td>0.0</td><td>0.0</td><td>-0.0</td><td>-0.0</td><td>-0.0</td><td>0.0</td><td>-0.0</td><td>-0.0</td><td>-0.0</td><td>-3.0</td><td>-1.0</td><td>-2.0</td><td>3.0</td><td>6.0</td><td>2.0</td><td>2.079442</td><td>null</td><td>null</td><td>0.0</td><td>null</td><td>null</td><td>&hellip;</td><td>0.0</td><td>0.0</td><td>0.0</td><td>NaN</td><td>NaN</td><td>NaN</td><td>3.0</td><td>6.0</td><td>2.0</td><td>2.079442</td><td>null</td><td>null</td><td>0.0</td><td>null</td><td>null</td><td>null</td><td>null</td><td>null</td><td>2.079442</td><td>null</td><td>null</td><td>null</td><td>null</td><td>null</td><td>null</td><td>null</td><td>null</td><td>null</td><td>null</td><td>null</td><td>null</td><td>null</td><td>null</td><td>null</td><td>1.098612</td><td>1.791759</td><td>0.693147</td></tr><tr><td>&quot;VBXNMF&quot;</td><td>&quot;JLR&quot;</td><td>&quot;2023-04-03&quot;</td><td>9</td><td>0.0</td><td>0.0</td><td>0.0</td><td>1.0</td><td>0.0</td><td>1.0</td><td>0.0</td><td>0.0</td><td>0.0</td><td>9.0</td><td>0.0</td><td>9.0</td><td>0.0</td><td>0.0</td><td>0.0</td><td>0.0</td><td>0.0</td><td>0.0</td><td>0.0</td><td>0.0</td><td>0.0</td><td>0.0</td><td>0.0</td><td>0.0</td><td>0.0</td><td>1.0</td><td>0.0</td><td>2.197225</td><td>null</td><td>null</td><td>null</td><td>0.0</td><td>null</td><td>&hellip;</td><td>0.0</td><td>0.0</td><td>0.0</td><td>0.0</td><td>0.0</td><td>0.0</td><td>0.0</td><td>1.0</td><td>0.0</td><td>2.197225</td><td>null</td><td>null</td><td>null</td><td>0.0</td><td>null</td><td>0.0</td><td>null</td><td>null</td><td>null</td><td>2.197225</td><td>null</td><td>2.197225</td><td>null</td><td>null</td><td>null</td><td>null</td><td>null</td><td>null</td><td>null</td><td>null</td><td>null</td><td>null</td><td>null</td><td>null</td><td>null</td><td>0.0</td><td>null</td></tr><tr><td>&quot;VBXNMF&quot;</td><td>&quot;EOH&quot;</td><td>&quot;2023-04-03&quot;</td><td>10</td><td>-1.0</td><td>0.0</td><td>0.0</td><td>-1.0</td><td>0.0</td><td>0.0</td><td>-10.0</td><td>0.0</td><td>0.0</td><td>-10.0</td><td>0.0</td><td>0.0</td><td>-0.0</td><td>-0.0</td><td>1.0</td><td>-0.0</td><td>-0.0</td><td>0.0</td><td>-0.0</td><td>0.0</td><td>0.0</td><td>-0.0</td><td>0.0</td><td>0.0</td><td>-0.0</td><td>-0.0</td><td>0.0</td><td>2.302585</td><td>null</td><td>null</td><td>null</td><td>null</td><td>null</td><td>&hellip;</td><td>0.0</td><td>0.0</td><td>0.0</td><td>0.0</td><td>0.0</td><td>0.0</td><td>0.0</td><td>0.0</td><td>0.0</td><td>2.302585</td><td>null</td><td>null</td><td>null</td><td>null</td><td>null</td><td>null</td><td>null</td><td>null</td><td>null</td><td>null</td><td>null</td><td>null</td><td>null</td><td>null</td><td>0.0</td><td>null</td><td>null</td><td>null</td><td>null</td><td>null</td><td>null</td><td>null</td><td>null</td><td>null</td><td>null</td><td>null</td><td>null</td></tr><tr><td>&quot;VBXNMF&quot;</td><td>&quot;VXY&quot;</td><td>&quot;2023-04-03&quot;</td><td>11</td><td>-1.0</td><td>-1.0</td><td>0.0</td><td>2.0</td><td>-2.0</td><td>0.0</td><td>-11.0</td><td>-11.0</td><td>0.0</td><td>22.0</td><td>-22.0</td><td>0.0</td><td>1.0</td><td>-0.0</td><td>-2.0</td><td>2.0</td><td>-0.0</td><td>-0.0</td><td>-2.0</td><td>2.0</td><td>-0.0</td><td>0.0</td><td>-0.0</td><td>0.0</td><td>-4.0</td><td>0.0</td><td>-0.0</td><td>2.397895</td><td>null</td><td>null</td><td>null</td><td>0.693147</td><td>null</td><td>&hellip;</td><td>NaN</td><td>2.0</td><td>0.0</td><td>0.0</td><td>0.0</td><td>0.0</td><td>NaN</td><td>0.0</td><td>0.0</td><td>2.397895</td><td>null</td><td>null</td><td>null</td><td>0.693147</td><td>null</td><td>null</td><td>null</td><td>null</td><td>null</td><td>3.091042</td><td>null</td><td>null</td><td>0.0</td><td>null</td><td>null</td><td>0.693147</td><td>null</td><td>null</td><td>null</td><td>0.693147</td><td>null</td><td>null</td><td>null</td><td>null</td><td>null</td><td>null</td><td>null</td></tr><tr><td>&quot;VBXNMF&quot;</td><td>&quot;OCB&quot;</td><td>&quot;2023-04-03&quot;</td><td>12</td><td>-1.0</td><td>-1.0</td><td>-1.0</td><td>-1.0</td><td>3.0</td><td>2.0</td><td>-12.0</td><td>-12.0</td><td>-12.0</td><td>-12.0</td><td>36.0</td><td>24.0</td><td>1.0</td><td>1.0</td><td>1.0</td><td>-3.0</td><td>-2.0</td><td>1.0</td><td>1.0</td><td>-3.0</td><td>-2.0</td><td>1.0</td><td>-3.0</td><td>-2.0</td><td>-3.0</td><td>-2.0</td><td>6.0</td><td>2.484907</td><td>null</td><td>null</td><td>null</td><td>null</td><td>1.098612</td><td>&hellip;</td><td>1.0</td><td>NaN</td><td>NaN</td><td>1.0</td><td>NaN</td><td>NaN</td><td>NaN</td><td>NaN</td><td>6.0</td><td>2.484907</td><td>null</td><td>null</td><td>null</td><td>null</td><td>1.098612</td><td>0.693147</td><td>null</td><td>null</td><td>null</td><td>null</td><td>3.583519</td><td>3.178054</td><td>0.0</td><td>0.0</td><td>0.0</td><td>null</td><td>null</td><td>0.0</td><td>0.0</td><td>null</td><td>null</td><td>0.0</td><td>null</td><td>null</td><td>null</td><td>null</td><td>1.791759</td></tr><tr><td>&hellip;</td><td>&hellip;</td><td>&hellip;</td><td>&hellip;</td><td>&hellip;</td><td>&hellip;</td><td>&hellip;</td><td>&hellip;</td><td>&hellip;</td><td>&hellip;</td><td>&hellip;</td><td>&hellip;</td><td>&hellip;</td><td>&hellip;</td><td>&hellip;</td><td>&hellip;</td><td>&hellip;</td><td>&hellip;</td><td>&hellip;</td><td>&hellip;</td><td>&hellip;</td><td>&hellip;</td><td>&hellip;</td><td>&hellip;</td><td>&hellip;</td><td>&hellip;</td><td>&hellip;</td><td>&hellip;</td><td>&hellip;</td><td>&hellip;</td><td>&hellip;</td><td>&hellip;</td><td>&hellip;</td><td>&hellip;</td><td>&hellip;</td><td>&hellip;</td><td>&hellip;</td><td>&hellip;</td><td>&hellip;</td><td>&hellip;</td><td>&hellip;</td><td>&hellip;</td><td>&hellip;</td><td>&hellip;</td><td>&hellip;</td><td>&hellip;</td><td>&hellip;</td><td>&hellip;</td><td>&hellip;</td><td>&hellip;</td><td>&hellip;</td><td>&hellip;</td><td>&hellip;</td><td>&hellip;</td><td>&hellip;</td><td>&hellip;</td><td>&hellip;</td><td>&hellip;</td><td>&hellip;</td><td>&hellip;</td><td>&hellip;</td><td>&hellip;</td><td>&hellip;</td><td>&hellip;</td><td>&hellip;</td><td>&hellip;</td><td>&hellip;</td><td>&hellip;</td><td>&hellip;</td><td>&hellip;</td><td>&hellip;</td><td>&hellip;</td><td>&hellip;</td><td>&hellip;</td><td>&hellip;</td></tr><tr><td>&quot;AWCRYH&quot;</td><td>&quot;VXY&quot;</td><td>&quot;2023-10-03&quot;</td><td>16</td><td>0.0</td><td>1.0</td><td>0.0</td><td>0.0</td><td>-2.0</td><td>0.0</td><td>0.0</td><td>16.0</td><td>0.0</td><td>0.0</td><td>-32.0</td><td>0.0</td><td>0.0</td><td>0.0</td><td>0.0</td><td>-0.0</td><td>0.0</td><td>0.0</td><td>0.0</td><td>-2.0</td><td>0.0</td><td>0.0</td><td>-0.0</td><td>0.0</td><td>-0.0</td><td>0.0</td><td>-0.0</td><td>2.772589</td><td>null</td><td>0.0</td><td>null</td><td>null</td><td>null</td><td>&hellip;</td><td>0.0</td><td>NaN</td><td>0.0</td><td>0.0</td><td>0.0</td><td>0.0</td><td>0.0</td><td>0.0</td><td>0.0</td><td>2.772589</td><td>null</td><td>0.0</td><td>null</td><td>null</td><td>null</td><td>null</td><td>null</td><td>2.772589</td><td>null</td><td>null</td><td>null</td><td>null</td><td>null</td><td>null</td><td>null</td><td>null</td><td>null</td><td>null</td><td>null</td><td>null</td><td>null</td><td>null</td><td>null</td><td>null</td><td>null</td><td>null</td><td>null</td></tr><tr><td>&quot;AWCRYH&quot;</td><td>&quot;OCB&quot;</td><td>&quot;2023-10-03&quot;</td><td>17</td><td>0.0</td><td>0.0</td><td>1.0</td><td>0.0</td><td>-2.0</td><td>0.0</td><td>0.0</td><td>0.0</td><td>17.0</td><td>0.0</td><td>-34.0</td><td>0.0</td><td>0.0</td><td>0.0</td><td>0.0</td><td>-0.0</td><td>0.0</td><td>0.0</td><td>0.0</td><td>-0.0</td><td>0.0</td><td>0.0</td><td>-2.0</td><td>0.0</td><td>-0.0</td><td>0.0</td><td>-0.0</td><td>2.833213</td><td>null</td><td>null</td><td>0.0</td><td>null</td><td>null</td><td>&hellip;</td><td>0.0</td><td>0.0</td><td>0.0</td><td>0.0</td><td>NaN</td><td>0.0</td><td>0.0</td><td>0.0</td><td>0.0</td><td>2.833213</td><td>null</td><td>null</td><td>0.0</td><td>null</td><td>null</td><td>null</td><td>null</td><td>null</td><td>2.833213</td><td>null</td><td>null</td><td>null</td><td>null</td><td>null</td><td>null</td><td>null</td><td>null</td><td>null</td><td>null</td><td>null</td><td>null</td><td>null</td><td>null</td><td>null</td><td>null</td><td>null</td><td>null</td></tr><tr><td>&quot;AWCRYH&quot;</td><td>&quot;ZFB&quot;</td><td>&quot;2023-10-03&quot;</td><td>18</td><td>1.0</td><td>0.0</td><td>0.0</td><td>0.0</td><td>-3.0</td><td>0.0</td><td>18.0</td><td>0.0</td><td>0.0</td><td>0.0</td><td>-54.0</td><td>0.0</td><td>0.0</td><td>0.0</td><td>0.0</td><td>-3.0</td><td>0.0</td><td>0.0</td><td>0.0</td><td>-0.0</td><td>0.0</td><td>0.0</td><td>-0.0</td><td>0.0</td><td>-0.0</td><td>0.0</td><td>-0.0</td><td>2.890372</td><td>0.0</td><td>null</td><td>null</td><td>null</td><td>null</td><td>&hellip;</td><td>0.0</td><td>0.0</td><td>0.0</td><td>0.0</td><td>0.0</td><td>0.0</td><td>0.0</td><td>0.0</td><td>0.0</td><td>2.890372</td><td>0.0</td><td>null</td><td>null</td><td>null</td><td>null</td><td>null</td><td>2.890372</td><td>null</td><td>null</td><td>null</td><td>null</td><td>null</td><td>null</td><td>null</td><td>null</td><td>null</td><td>null</td><td>null</td><td>null</td><td>null</td><td>null</td><td>null</td><td>null</td><td>null</td><td>null</td><td>null</td><td>null</td></tr><tr><td>&quot;AWCRYH&quot;</td><td>&quot;UAK&quot;</td><td>&quot;2023-10-03&quot;</td><td>19</td><td>1.0</td><td>1.0</td><td>0.0</td><td>-3.0</td><td>-1.0</td><td>0.0</td><td>19.0</td><td>19.0</td><td>0.0</td><td>-57.0</td><td>-19.0</td><td>0.0</td><td>1.0</td><td>0.0</td><td>-3.0</td><td>-1.0</td><td>0.0</td><td>0.0</td><td>-3.0</td><td>-1.0</td><td>0.0</td><td>-0.0</td><td>-0.0</td><td>0.0</td><td>3.0</td><td>-0.0</td><td>-0.0</td><td>2.944439</td><td>0.0</td><td>0.0</td><td>null</td><td>null</td><td>null</td><td>&hellip;</td><td>NaN</td><td>NaN</td><td>0.0</td><td>0.0</td><td>0.0</td><td>0.0</td><td>3.0</td><td>0.0</td><td>0.0</td><td>2.944439</td><td>0.0</td><td>0.0</td><td>null</td><td>null</td><td>null</td><td>null</td><td>2.944439</td><td>2.944439</td><td>null</td><td>null</td><td>null</td><td>null</td><td>0.0</td><td>null</td><td>null</td><td>null</td><td>null</td><td>null</td><td>null</td><td>null</td><td>null</td><td>null</td><td>null</td><td>null</td><td>1.098612</td><td>null</td><td>null</td></tr><tr><td>&quot;AWCRYH&quot;</td><td>&quot;LXX&quot;</td><td>&quot;2023-10-03&quot;</td><td>20</td><td>1.0</td><td>1.0</td><td>1.0</td><td>0.0</td><td>0.0</td><td>-1.0</td><td>20.0</td><td>20.0</td><td>20.0</td><td>0.0</td><td>0.0</td><td>-20.0</td><td>1.0</td><td>1.0</td><td>0.0</td><td>0.0</td><td>-1.0</td><td>1.0</td><td>0.0</td><td>0.0</td><td>-1.0</td><td>0.0</td><td>0.0</td><td>-1.0</td><td>0.0</td><td>-0.0</td><td>-0.0</td><td>2.995732</td><td>0.0</td><td>0.0</td><td>0.0</td><td>null</td><td>null</td><td>&hellip;</td><td>0.0</td><td>0.0</td><td>NaN</td><td>0.0</td><td>0.0</td><td>NaN</td><td>0.0</td><td>0.0</td><td>0.0</td><td>2.995732</td><td>0.0</td><td>0.0</td><td>0.0</td><td>null</td><td>null</td><td>null</td><td>2.995732</td><td>2.995732</td><td>2.995732</td><td>null</td><td>null</td><td>null</td><td>0.0</td><td>0.0</td><td>null</td><td>null</td><td>null</td><td>0.0</td><td>null</td><td>null</td><td>null</td><td>null</td><td>null</td><td>null</td><td>null</td><td>null</td><td>null</td></tr></tbody></table></div>"
      ],
      "text/plain": [
       "shape: (533_811, 171)\n",
       "┌────────┬──────┬────────────┬───────┬───┬──────────────┬──────────────┬─────────────┬─────────────┐\n",
       "│ train  ┆ gare ┆ date       ┆ arret ┆ … ┆ p4q0_p0q4_mu ┆ p0q2_p0q3_mu ┆ p0q2_p0q4_m ┆ p0q3_p0q4_m │\n",
       "│ ---    ┆ ---  ┆ ---        ┆ ---   ┆   ┆ ltiplied_log ┆ ltiplied_log ┆ ultiplied_l ┆ ultiplied_l │\n",
       "│ str    ┆ str  ┆ str        ┆ i64   ┆   ┆ _squar…      ┆ _squar…      ┆ og_squar…   ┆ og_squar…   │\n",
       "│        ┆      ┆            ┆       ┆   ┆ ---          ┆ ---          ┆ ---         ┆ ---         │\n",
       "│        ┆      ┆            ┆       ┆   ┆ f64          ┆ f64          ┆ f64         ┆ f64         │\n",
       "╞════════╪══════╪════════════╪═══════╪═══╪══════════════╪══════════════╪═════════════╪═════════════╡\n",
       "│ VBXNMF ┆ KYF  ┆ 2023-04-03 ┆ 8     ┆ … ┆ null         ┆ 1.098612     ┆ 1.791759    ┆ 0.693147    │\n",
       "│ VBXNMF ┆ JLR  ┆ 2023-04-03 ┆ 9     ┆ … ┆ null         ┆ null         ┆ 0.0         ┆ null        │\n",
       "│ VBXNMF ┆ EOH  ┆ 2023-04-03 ┆ 10    ┆ … ┆ null         ┆ null         ┆ null        ┆ null        │\n",
       "│ VBXNMF ┆ VXY  ┆ 2023-04-03 ┆ 11    ┆ … ┆ null         ┆ null         ┆ null        ┆ null        │\n",
       "│ VBXNMF ┆ OCB  ┆ 2023-04-03 ┆ 12    ┆ … ┆ null         ┆ null         ┆ null        ┆ 1.791759    │\n",
       "│ …      ┆ …    ┆ …          ┆ …     ┆ … ┆ …            ┆ …            ┆ …           ┆ …           │\n",
       "│ AWCRYH ┆ VXY  ┆ 2023-10-03 ┆ 16    ┆ … ┆ null         ┆ null         ┆ null        ┆ null        │\n",
       "│ AWCRYH ┆ OCB  ┆ 2023-10-03 ┆ 17    ┆ … ┆ null         ┆ null         ┆ null        ┆ null        │\n",
       "│ AWCRYH ┆ ZFB  ┆ 2023-10-03 ┆ 18    ┆ … ┆ null         ┆ null         ┆ null        ┆ null        │\n",
       "│ AWCRYH ┆ UAK  ┆ 2023-10-03 ┆ 19    ┆ … ┆ null         ┆ 1.098612     ┆ null        ┆ null        │\n",
       "│ AWCRYH ┆ LXX  ┆ 2023-10-03 ┆ 20    ┆ … ┆ null         ┆ null         ┆ null        ┆ null        │\n",
       "└────────┴──────┴────────────┴───────┴───┴──────────────┴──────────────┴─────────────┴─────────────┘"
      ]
     },
     "execution_count": 5,
     "metadata": {},
     "output_type": "execute_result"
    }
   ],
   "source": [
    "FeaturesFrame(x_train).add_feature_interactions().add_feature_log().add_feature_sqrt().add_feature_square()"
   ]
  },
  {
   "cell_type": "code",
   "execution_count": null,
   "metadata": {},
   "outputs": [],
   "source": []
  }
 ],
 "metadata": {
  "kernelspec": {
   "display_name": "challengedata",
   "language": "python",
   "name": "python3"
  },
  "language_info": {
   "codemirror_mode": {
    "name": "ipython",
    "version": 3
   },
   "file_extension": ".py",
   "mimetype": "text/x-python",
   "name": "python",
   "nbconvert_exporter": "python",
   "pygments_lexer": "ipython3",
   "version": "3.11.11"
  }
 },
 "nbformat": 4,
 "nbformat_minor": 2
}
