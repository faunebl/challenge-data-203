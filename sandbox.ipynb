{
 "cells": [
  {
   "cell_type": "markdown",
   "metadata": {},
   "source": [
    "---\n",
    "# Predicting SNCF wait times\n",
    "---\n",
    "In this notebook, we try to build a pipeline and framework in order to predict wait times for trains. \n",
    "\n",
    "We start by importing the data and splitting it. We then remove outliers and encoding categorical variables. \n",
    "\n",
    "Then, we perform hyperparameter optimization and train a simple XGBoost model accordingly. After this, we can export the results to make a submission on the challenge data website. \n",
    "\n",
    "Keep in mind that this notebook is only the tip of the iceberg : we have built libraries to preprocess features and test different models (they are accessible in the models.py and features.py modules). After trial and error, this is the best model that we can come up with."
   ]
  },
  {
   "cell_type": "markdown",
   "metadata": {},
   "source": [
    "## Importing packages and data"
   ]
  },
  {
   "cell_type": "code",
   "execution_count": 16,
   "metadata": {},
   "outputs": [],
   "source": [
    "import numpy as np\n",
    "import polars as pl\n",
    "import polars.selectors as cs\n",
    "from utils import PathsData, import_data, split_data, plot_correlation\n",
    "from features import FeaturesFrame\n",
    "from models import Model, ModelEnum, ParamGridEnum\n",
    "\n",
    "import plotly.express as px\n",
    "from plotly.subplots import make_subplots\n",
    "import plotly.graph_objects as go\n",
    "from sklearn.metrics import mean_absolute_error, mean_squared_error, r2_score\n",
    "from xgboost import XGBRegressor\n",
    "\n",
    "\n",
    "x_validation = import_data(PathsData.X_TEST.value) #! to use in the end to make a submission\n",
    "x = import_data(PathsData.X_TRAIN.value)\n",
    "y = import_data(PathsData.Y_TRAIN.value)\n"
   ]
  },
  {
   "cell_type": "markdown",
   "metadata": {},
   "source": [
    "## Removing outliers\n",
    "After testing different methods, we have found that the one that yields the best results is simply based on a simple quantile exclusion.\n",
    "We have also tested different values to understand which is the best quantile to exclude. \n",
    "\n",
    "We start by visualizing the outliers with boxplots."
   ]
  },
  {
   "cell_type": "code",
   "execution_count": null,
   "metadata": {},
   "outputs": [
    {
     "data": {
      "text/html": [
       "<div><style>\n",
       ".dataframe > thead > tr,\n",
       ".dataframe > tbody > tr {\n",
       "  text-align: right;\n",
       "  white-space: pre-wrap;\n",
       "}\n",
       "</style>\n",
       "<small>shape: (667_264, 8)</small><table border=\"1\" class=\"dataframe\"><thead><tr><th>arret</th><th>p2q0</th><th>p3q0</th><th>p4q0</th><th>p0q2</th><th>p0q3</th><th>p0q4</th><th>p0q0</th></tr><tr><td>i64</td><td>f64</td><td>f64</td><td>f64</td><td>f64</td><td>f64</td><td>f64</td><td>f64</td></tr></thead><tbody><tr><td>8</td><td>0.0</td><td>0.0</td><td>1.0</td><td>-3.0</td><td>-1.0</td><td>-2.0</td><td>-1.0</td></tr><tr><td>9</td><td>0.0</td><td>0.0</td><td>0.0</td><td>1.0</td><td>0.0</td><td>1.0</td><td>-1.0</td></tr><tr><td>10</td><td>-1.0</td><td>0.0</td><td>0.0</td><td>-1.0</td><td>0.0</td><td>0.0</td><td>-1.0</td></tr><tr><td>11</td><td>-1.0</td><td>-1.0</td><td>0.0</td><td>2.0</td><td>-2.0</td><td>0.0</td><td>1.0</td></tr><tr><td>12</td><td>-1.0</td><td>-1.0</td><td>-1.0</td><td>-1.0</td><td>3.0</td><td>2.0</td><td>3.0</td></tr><tr><td>&hellip;</td><td>&hellip;</td><td>&hellip;</td><td>&hellip;</td><td>&hellip;</td><td>&hellip;</td><td>&hellip;</td><td>&hellip;</td></tr><tr><td>22</td><td>0.0</td><td>-1.0</td><td>-6.0</td><td>-1.0</td><td>0.0</td><td>-2.0</td><td>1.0</td></tr><tr><td>23</td><td>0.0</td><td>0.0</td><td>-1.0</td><td>1.0</td><td>0.0</td><td>0.0</td><td>2.0</td></tr><tr><td>24</td><td>1.0</td><td>0.0</td><td>0.0</td><td>-1.0</td><td>-3.0</td><td>-1.0</td><td>2.0</td></tr><tr><td>26</td><td>2.0</td><td>2.0</td><td>1.0</td><td>0.0</td><td>0.0</td><td>1.0</td><td>1.0</td></tr><tr><td>28</td><td>1.0</td><td>1.0</td><td>2.0</td><td>-5.0</td><td>-4.0</td><td>-4.0</td><td>1.0</td></tr></tbody></table></div>"
      ],
      "text/plain": [
       "shape: (667_264, 8)\n",
       "┌───────┬──────┬──────┬──────┬──────┬──────┬──────┬──────┐\n",
       "│ arret ┆ p2q0 ┆ p3q0 ┆ p4q0 ┆ p0q2 ┆ p0q3 ┆ p0q4 ┆ p0q0 │\n",
       "│ ---   ┆ ---  ┆ ---  ┆ ---  ┆ ---  ┆ ---  ┆ ---  ┆ ---  │\n",
       "│ i64   ┆ f64  ┆ f64  ┆ f64  ┆ f64  ┆ f64  ┆ f64  ┆ f64  │\n",
       "╞═══════╪══════╪══════╪══════╪══════╪══════╪══════╪══════╡\n",
       "│ 8     ┆ 0.0  ┆ 0.0  ┆ 1.0  ┆ -3.0 ┆ -1.0 ┆ -2.0 ┆ -1.0 │\n",
       "│ 9     ┆ 0.0  ┆ 0.0  ┆ 0.0  ┆ 1.0  ┆ 0.0  ┆ 1.0  ┆ -1.0 │\n",
       "│ 10    ┆ -1.0 ┆ 0.0  ┆ 0.0  ┆ -1.0 ┆ 0.0  ┆ 0.0  ┆ -1.0 │\n",
       "│ 11    ┆ -1.0 ┆ -1.0 ┆ 0.0  ┆ 2.0  ┆ -2.0 ┆ 0.0  ┆ 1.0  │\n",
       "│ 12    ┆ -1.0 ┆ -1.0 ┆ -1.0 ┆ -1.0 ┆ 3.0  ┆ 2.0  ┆ 3.0  │\n",
       "│ …     ┆ …    ┆ …    ┆ …    ┆ …    ┆ …    ┆ …    ┆ …    │\n",
       "│ 22    ┆ 0.0  ┆ -1.0 ┆ -6.0 ┆ -1.0 ┆ 0.0  ┆ -2.0 ┆ 1.0  │\n",
       "│ 23    ┆ 0.0  ┆ 0.0  ┆ -1.0 ┆ 1.0  ┆ 0.0  ┆ 0.0  ┆ 2.0  │\n",
       "│ 24    ┆ 1.0  ┆ 0.0  ┆ 0.0  ┆ -1.0 ┆ -3.0 ┆ -1.0 ┆ 2.0  │\n",
       "│ 26    ┆ 2.0  ┆ 2.0  ┆ 1.0  ┆ 0.0  ┆ 0.0  ┆ 1.0  ┆ 1.0  │\n",
       "│ 28    ┆ 1.0  ┆ 1.0  ┆ 2.0  ┆ -5.0 ┆ -4.0 ┆ -4.0 ┆ 1.0  │\n",
       "└───────┴──────┴──────┴──────┴──────┴──────┴──────┴──────┘"
      ]
     },
     "execution_count": 4,
     "metadata": {},
     "output_type": "execute_result"
    }
   ],
   "source": []
  },
  {
   "cell_type": "code",
   "execution_count": 17,
   "metadata": {},
   "outputs": [
    {
     "data": {
      "text/plain": [
       "array([ 8,  9, 10, ..., 24, 26, 28])"
      ]
     },
     "execution_count": 17,
     "metadata": {},
     "output_type": "execute_result"
    }
   ],
   "source": [
    "np.array(to_plot.select(to_plot.columns[0]).to_series().to_list())"
   ]
  },
  {
   "cell_type": "code",
   "execution_count": 20,
   "metadata": {},
   "outputs": [
    {
     "ename": "NameError",
     "evalue": "name 'μ' is not defined",
     "output_type": "error",
     "traceback": [
      "\u001b[31m---------------------------------------------------------------------------\u001b[39m",
      "\u001b[31mNameError\u001b[39m                                 Traceback (most recent call last)",
      "\u001b[36mCell\u001b[39m\u001b[36m \u001b[39m\u001b[32mIn[20]\u001b[39m\u001b[32m, line 17\u001b[39m\n\u001b[32m     12\u001b[39m fig.append_trace(go.Box(y=np.array(to_plot.select(to_plot.columns[\u001b[32m7\u001b[39m]).to_series().to_list())), row=\u001b[32m3\u001b[39m, col=\u001b[32m2\u001b[39m)\n\u001b[32m     15\u001b[39m fig.update_layout(height=\u001b[32m1000\u001b[39m, width=\u001b[32m1000\u001b[39m, title_text=\u001b[33m\"\u001b[39m\u001b[33mOutliers\u001b[39m\u001b[33m\"\u001b[39m)\n\u001b[32m---> \u001b[39m\u001b[32m17\u001b[39m \u001b[43mµ\u001b[49m\n",
      "\u001b[31mNameError\u001b[39m: name 'μ' is not defined"
     ]
    }
   ],
   "source": [
    "\n",
    "\n",
    "to_plot = x.with_columns(y).select(cs.numeric())\n",
    "\n",
    "fig = make_subplots(rows=3, cols=3, subplot_titles=[c for c in to_plot.columns])\n",
    "\n",
    "fig.append_trace(go.Box(y=np.array(to_plot.select(to_plot.columns[0]).to_series().to_list()), boxpoints='all'), row=1, col=1)\n",
    "fig.append_trace(go.Box(y=np.array(to_plot.select(to_plot.columns[1]).to_series().to_list())), row=1, col=2)\n",
    "fig.append_trace(go.Box(y=np.array(to_plot.select(to_plot.columns[2]).to_series().to_list())), row=1, col=3)\n",
    "fig.append_trace(go.Box(y=np.array(to_plot.select(to_plot.columns[3]).to_series().to_list())), row=2, col=1)\n",
    "fig.append_trace(go.Box(y=np.array(to_plot.select(to_plot.columns[4]).to_series().to_list())), row=2, col=2)\n",
    "fig.append_trace(go.Box(y=np.array(to_plot.select(to_plot.columns[5]).to_series().to_list())), row=2, col=3)\n",
    "fig.append_trace(go.Box(y=np.array(to_plot.select(to_plot.columns[6]).to_series().to_list())), row=3, col=1)\n",
    "fig.append_trace(go.Box(y=np.array(to_plot.select(to_plot.columns[7]).to_series().to_list())), row=3, col=2)\n",
    "\n",
    "\n",
    "fig.update_layout(height=1000, width=1000, title_text=\"Outliers\")\n",
    "\n"
   ]
  },
  {
   "cell_type": "code",
   "execution_count": null,
   "metadata": {},
   "outputs": [],
   "source": [
    "\n",
    "#remove outliers:\n",
    "x = x.with_columns(y).filter(pl.col('p0q0').ge(pl.col('p0q0').quantile(0.01)) & pl.col('p0q0').le(pl.col('p0q0').quantile(0.99)))\n",
    "y = x.select('p0q0')\n",
    "x = x.drop('p0q0')\n",
    "\n",
    "x_train, x_test, y_train, y_test = split_data(x=x, y=y)"
   ]
  },
  {
   "cell_type": "code",
   "execution_count": null,
   "metadata": {},
   "outputs": [],
   "source": [
    "test_train = FeaturesFrame(x_train).encode_label(encoder='frequency').select(cs.numeric())#.add_feature_square().scale_standard() #.add_feature_interactions() #.add_feature_square() #.scale_standard(set=\"train\")\n",
    "test_test = FeaturesFrame(x_test).encode_label(encoder='frequency').select(cs.numeric()) #.add_feature_square().scale_standard(set='test', train_scaler=scaler) #.add_feature_interactions() #.add_feature_square() #.scale_standard(set=\"test\", train_scaler=scaler)"
   ]
  },
  {
   "cell_type": "code",
   "execution_count": null,
   "metadata": {},
   "outputs": [],
   "source": [
    "model = Model(model_enum=ModelEnum.XGBoost)\n",
    "model_fit = model.fit(test_train.to_numpy(), y_train=y_train.to_numpy())\n",
    "model.evaluate(X_test=test_test.to_numpy(), y_test=y_test.to_numpy())"
   ]
  },
  {
   "cell_type": "code",
   "execution_count": null,
   "metadata": {},
   "outputs": [],
   "source": [
    "model = Model(model_enum=ModelEnum.XGBoost)\n",
    "params_opti_mlp = model.optimize_hyperparams_optuna(test_train.to_pandas(), y_train=y_train.to_pandas())"
   ]
  },
  {
   "cell_type": "code",
   "execution_count": null,
   "metadata": {},
   "outputs": [],
   "source": [
    "model = Model(model_enum=ModelEnum.XGBoost)\n",
    "params_opti_mlp = model.grid_search(test_train.to_pandas(), y_train=y_train.to_pandas(), param_grid = ParamGridEnum.XGBoost.value)"
   ]
  },
  {
   "cell_type": "code",
   "execution_count": null,
   "metadata": {},
   "outputs": [],
   "source": [
    "mod = XGBRegressor().set_params(**{'colsample_bytree': 0.8, 'learning_rate': 0.1, 'max_depth': 10, 'n_estimators': 200, 'subsample': 0.8})\n",
    "mod_fit = mod.fit(test_train.to_numpy(),y_train.to_numpy())\n",
    "preds = mod.predict(X=test_test.to_numpy())\n",
    "mse = mean_squared_error(y_test, preds)\n",
    "r2 = r2_score(y_test, preds)\n",
    "mae = mean_absolute_error(y_test,preds)\n",
    "print(f\"Model Evaluation - MSE: {mse:.4f}, R2: {r2:.4f}, MAE: {mae:.4f}\")"
   ]
  },
  {
   "cell_type": "code",
   "execution_count": null,
   "metadata": {},
   "outputs": [],
   "source": [
    "def make_submission(number: int, model: XGBRegressor):\n",
    "    predictions_validation = (\n",
    "        model\n",
    "        .predict(\n",
    "            FeaturesFrame(x_validation)\n",
    "            .encode_label(encoder='frequency')\n",
    "            .drop('train', 'gare', 'date').to_numpy()\n",
    "        )\n",
    "    )\n",
    "    (\n",
    "        pl.DataFrame(predictions_validation)\n",
    "        .rename({\"column_0\":\"y_test\"})\n",
    "        .with_row_index()\n",
    "        .write_csv(fr\"C:\\Users\\faune\\challenge-data-203\\submissions\\submission{number}.csv\", separator=\",\")\n",
    "    )\n",
    "    print(f\"Successfully saved submission number {number}\")\n",
    "    return None"
   ]
  },
  {
   "cell_type": "code",
   "execution_count": null,
   "metadata": {},
   "outputs": [],
   "source": [
    "make_submission(6, model=mod)"
   ]
  },
  {
   "cell_type": "code",
   "execution_count": null,
   "metadata": {},
   "outputs": [],
   "source": []
  }
 ],
 "metadata": {
  "kernelspec": {
   "display_name": "challengedata",
   "language": "python",
   "name": "python3"
  },
  "language_info": {
   "codemirror_mode": {
    "name": "ipython",
    "version": 3
   },
   "file_extension": ".py",
   "mimetype": "text/x-python",
   "name": "python",
   "nbconvert_exporter": "python",
   "pygments_lexer": "ipython3",
   "version": "3.11.11"
  }
 },
 "nbformat": 4,
 "nbformat_minor": 2
}
